{
 "cells": [
  {
   "cell_type": "code",
   "execution_count": 1,
   "metadata": {},
   "outputs": [],
   "source": [
    "from bs4 import BeautifulSoup\n",
    "import requests\n",
    "res=requests.get('https://www.imdb.com/title/tt0944947/reviews?ref_=tt_ql_3')\n",
    "bs=BeautifulSoup(res.content,'html.parser')\n",
    "#print(bs)\n",
    "all_reviews = bs.find_all('div',{'class':'text show-more__control'})\n",
    "\n",
    "    \n",
    "\n",
    "  "
   ]
  },
  {
   "cell_type": "code",
   "execution_count": 2,
   "metadata": {},
   "outputs": [
    {
     "name": "stdout",
     "output_type": "stream",
     "text": [
      "[<div class=\"text show-more__control\">It was a master piece. It was written to the perfection. It was mesmerizing. It was gripping. It was so shocking that if someone is binge watching this show he/she will need a time-off in between to get their head around things and accept some messed up, yet mind blowing development.<br/><br/>But yet, I cant hate it enough after final season. Its like you came to know that you were in love with the wrong one all along. It was like looking at a completely different person. It was like seeing your own dreams and expectations get destroyed. It was not a let down, it was a BETRAYAL!</div>, <div class=\"text show-more__control\">Let's say you're reading these reviews and haven't watched GoT yet, but now that it's finished are considering the marathon. What's the consensus? In this case, the consensus is accurate, and that is:<br/><br/>Seasons 1-6: outstanding. Deep world-building, intelligent dialogue, epic set-pieces worthy of Hollywood, expert acting, detailed plotting, genuine surprises, great soundtrack used sparingly. GoT is worth watching for these seasons, definitely.<br/><br/>Season 7: you suddenly notice the writing and plotting has taken a sharp dive downwards in quality. There are inexplicable ideas, inconsistent characterisation and soap-opera dramas. But at least the entertainment value is still very high, so it gets a pass.<br/><br/>Season 8: this drop chasms down to depths you didn't think possible. The writing has got so amateurish that the still-fantastic production values are no longer enough to save it. If you ever enjoyed Lost but were amazed at how bad the final season was, you're in familiar territory here.<br/><br/>The biggest problem with the final season was it took us out of the story and got us thinking about its many weaknesses. We lost our suspension of disbelief. Fatal for fiction. It also ruined the series-arcs to the point where a rewatch of the entire series is pointless.<br/><br/>So can I recommend a GoT marathon for newcomers? Yes, the first 6 seasons are worth the disappointments later on. But best series of all time it is not. It could've been, but dropping the ball in the final stretch puts it behind the following superior series more worthy of your marathon:<br/><br/><ul><li>Battlestar Galactica (2003-2008)</li><li>Twin Peaks (all 3 seasons, plus the movie)</li><li>Breaking Bad</li></ul></div>, <div class=\"text show-more__control\">Till season 7 very likely the best TV show ever made in terms of suspense, character development, plot, effects, acting.... 10/10 with no doubt! But S6E10 is probably the point where you should stop and imagine your own ending. It is guaranteed better and has more character development. Otherwise you may end up rating it down by more than just one and are overcome by disappointment...</div>, <div class=\"text show-more__control\">So imagine you go into an ice cream shop and you order a sundae. They've got all kinds of nice stuff going on, beautiful delicious soft serve vanilla bean ice cream, some hot fudge, freshly cracked up peanuts, woah what is that?? A brownie? Some delicious house made whipped cream... Man this sundae is gonna be spectacular. Wow what more could you ask for? Cherry on top? Bring it on!!<br/><br/>And then all of a sudden they put an anchovy on top, and then another, and then a couple more, and then squirt some Dijon mustard on for good measure.<br/><br/>You don't even want the sundae anymore, in fact, you can't even look back on how nice that sundae used to be without thinking about all the stupid s*** they did at the very end just when it was going so well.<br/><br/>That's essentially Game of Thrones. I tried to rewatch it, but as I got through the first season I began looking at where all the pieces land at the end it's literally impossible to go back to. There are just so many ruined character arcs, so much pointlessness, and every time I come back here I drop it one more star it seems like. Game of Thrones is a beautiful anchovy sundae.</div>, <div class=\"text show-more__control\">I'm feeling so heartbroken to see everyone criticising my favourite show of all time. And yes of course that's because of the bad making of the season finale, I can totally understand that. After all these years hardwork, creating and developing each and every character from bottom to top, memories, emotions throughout the process all went to vain for one bad making. It's so painful to accept it for the audience who invested lots of time watching the show from the starting and then finishing it like this! It's a long long journey. I don't even remember the day I started watching it and since then I waited the next year to come for the new season. I can't say anything more. Only one last request, could you please delete the whole season 8 and make a new version of it? Please?</div>, <div class=\"text show-more__control\">Started off as the greatest series of all time, but had the worst ending of all time.</div>, <div class=\"text show-more__control\">It use to be my favorite show by far and i never thought that could change,but it did.Last(8)season i watched only once but all the seasons before that i have seen 3 times,except the season 7,which i saw twice.Thank god that i did,because now i won't watch the show again.You really mess it up with the last season.</div>, <div class=\"text show-more__control\">I would give this an easy 10/10.. if season 8 didn't exist. But it does, unfortunately.<br/><br/>Season 1-6 10/10 Amazing, complex dialogue and intriguing logical story lines with strong character developments and shocking emotional moments. On top of the insane action scenes. A few MINOR flaws in s5/6<br/><br/>Season 7- 7/10 - still good but seemed rushed and had some illogical moments that made no sense.<br/><br/>Season 8- 3/10 I actually don't know where or start. Season 8 is a joke. Terrible writing. Nothing makes sense. The writers have butchered many character's developments and given hardly any satisfying conclusions to their story arcs. Brans story had no pay off at all and his whole role as the 3 eyed raven proved pointless against the Night King. Jaime's redemption arc was cut off instantly with real no reason. The Night Kings death was underwhelming. Infact all of episode 3 was poor, with no real structure and poorly written end to the main story line of the show. No Sansa and Cersei interaction of any sort which I would have liked to have seen. Unbelievable unrealistic plot armour. The plot armour ruined the battle of Winterfell. 'All' the Dothraki wiped out in seconds yet Samwell Tarly can fend them off. Many more characters needed to die that episode. Rhaegal taken down by first 3 shots, yet Drogon dodges an Iron fleets worth of Scorpions at Kings Landing, which weren't even shooting, just to serve the plot. I guess Euron forgot about Dany's dragon and her forces. Jon does nothing all season (why was he resurrected? ). Speaking of Jon, what was the point of his lineage? It didn't change anything. I kind of like Danaerys going mad but it needed a lot more time and thought put into it - It went too far too fast with no substantial development to justify her killing thousands of innocents. It was actually laughable. Needed seasons of planning and transitioning her character. After Dany's death it just skipped to Tyrion's trial and no one seemed phased over it. Anything that required any thought from the Writers was done off screen, like Arya and Sansa finding out about Jon's lineage. Major let downs and bad dialogue throughout. There are some good moments but very few and far between. Have to appreciate effort by cast, directing and music crew and the few decent scenes as a whole. Also, Cersei, who I personally think is the most interesting character gets 20 minutes screen time all season and does nothing except look out of a window.<br/><br/>Overall- 8/10 purely on S1-7</div>, <div class=\"text show-more__control\">For a series with such a complexity, many-layered characters, contradicted emotions &amp; breathtaking events. you'd expect to get an epic ending but that wasn't the case with Game of Thrones which has an end that ruined it all &amp; made rewatchability almost impossible.\n",
      "even the worst pessimists wouldn't ever imagined a series that acquired all this glory &amp; hype to end up so terribly.<br/><br/>Shame on the writers to turn such a rich world &amp; complicated structure into a pale &amp; dumb pop-ish work at the last 2 seasons<br/><br/>Seasons 1-6 outstanding. season 7 that's when the dumb writing has begun. season 8 dumb writing has taken a whole new level, butchering all characters arcs &amp; betraying the previous complexity of the world.<br/><br/>if you're new to the series do yourself a favor &amp; stop watching after season 6.</div>, <div class=\"text show-more__control\">This is the first series i would recommend to anybody , it is an amazing piece of work , the most stunning TV series you will ever watch.\n",
      "Why i gave it 9/10 because of the last season, it's still good but very disappointing compared to all the seasons. YOU will enjoy every episode</div>, <div class=\"text show-more__control\">The first 5 Seasons of Game Of Thrones are exceptional, a beautifully structured series. The sets, characters, pacing, twists - exceptional. I could not fault it, however, after that things went downhill.<br/><br/>When it came to Season 5, the author of the books (George R. R. Martin) and HBO had a disagreement. Martin wanted the show to run across more series, to give all his complex story lines the chance to grow &amp; move at a natural pace. HBO declined and so he dropped off the project, which is extremely evident.<br/><br/>Season 6 &amp; 7, although flawed, were still watchable. The books &amp; George's earlier comments paved the way for both seasons, but you could feel that the episodes lacked substance.<br/><br/>This brings us to the latest season, and after 2 years of waiting expectations were very high. The first two episodes were very plain, the reunions were wonderful, however you could tell they were setting up for one of the biggest fights of the series, which had been greatly anticipated since Season 1. I tried to not to have too high of expectations, however the director referred to episode 3 as \"bigger than Helms Deep\" which is a comment that will always spark excitement.<br/><br/>Episode 3 was so utterly disappointing, in every way. If you were somehow able to see through the intense darkness (what was the director thinking?) you will crumble to the poor decisions made by writers. I will not stem into this too much, but basically Dan &amp; Dave chose to go down the Hollywood path, completely disregarding any real story or strategy. Episode 4 was equally as disappointing, which I was hoping would redeem the final season.<br/><br/>The writers have ruined this final season by fast tracking characters (basically teleporting), making the smartest of characters docile, and letting plot armor protect 'favorites'. I am still going to watch until the end, but I thought I would warn any future viewer to prepare yourself, as there is nothing more heartbreaking than watching terrible writing ruin a otherwise tremendous series.</div>, <div class=\"text show-more__control\">As GoT started, the first four seasons were insanely great. The story, the characters, the mature plot points. Everything was just perfect. It was 11/10 for me then.\n",
      "But as the seasons passed and episodes increased, the show became dumber and dumber and dumber. The story became childish, and the premise deteriorated. And now in season 8, it feels like a bunch of kindergarten kids are given the task of writing the plot for this show.</div>, <div class=\"text show-more__control\">The ending of this series is a disservice to the public!<br/><br/>The first seasons are great as they are based on the books source material and, apparently, the writers are good enough at adapting other people ideas. After season four there's a decline, not so manifest at first since the goodness of the source material still lingers around. It's more of a slow deterioration, a spiral into shallow writing that peaks in a last season devoid of content and value.\n",
      "Where at first grand scale developments, societal issues and world-spanning intrigues dominated the narration with characters being the pawns of the true overarching story, later in the seasons characters and stereotypical interactions take the stage and the interesting, long developing issues that made the story captivating get resolved in the most unrewarding ways possible. It's incoherent, detached, uninspired writing. It's everything that is bad in mainstream media.<br/><br/>All of this because the writers decided they had enough with the show and grew bored with it. So they wanted to wrap it up as soon as possible in order to go on and ruin the Star Wars franchise (more than it already is). Thanks for your disservice!<br/><br/>It needs to be mentioned that the overall production, sound design, acting, cinematography, all of these are quite extraordinary and elevate the show quite a bit, even when the writing declines. The quality is amazing. It probably is still worth watching for its entertainment value. It just doesn't pay off. The ending season ruins quite literally everything.</div>, <div class=\"text show-more__control\">GOT is an amazing show! But..... the last season was rushed especially regarding the white walkers. They built up so much tension and then just ended it like that.... pretty bad. Also the ending of the whole show wasn't very good either. However, this tv show is so high above everything else nowadays especially regarding production quality, story, standing out from the crowd, complexity and character development and not to mention the actors! Top notch! God tier! I just wish that they had some more time to figure out that last season..</div>, <div class=\"text show-more__control\">At first I did not want to watch the series.\n",
      "But once I started watching it, I couldn't stop.\n",
      "It became more and more exciting from season 1-8.<br/><br/>Great actors.<br/><br/>I was disappointed with the end of the 8 season!</div>, <div class=\"text show-more__control\">A series like never seen before which rocked last season on a flop! congratulations anyway</div>, <div class=\"text show-more__control\">I loved this series so much. Then came season 8 episode 3 and 4. Such a disgraceful ending.<br/><br/>Seasons 1-4 10/10\n",
      "Seasons 5-7 9/10\n",
      "Season 8 (Ep 1-4) 3/10</div>, <div class=\"text show-more__control\">First off, I used to have a 10/10 for the show but after watching season 8 ep 3, I can no longer consider it a masterpiece. The writing has been atrocious, no spacing between major moments. Season 8 is definitely going to be the worst season in GOT history, even if the last two eps are Brilliant which I'm starting to feel is highly unlikely. However I'm still giving GOT as a whole 8/10 because of what the show once was, but season 8 has ruined it. Their best hope now is to hire some new writers and redo season eight with 10 episodes, so key moments are spaced out and not feel all jumbled together like they do currently, and give more justice to the night king so that GOT can go out with a bang and be remembered as the greatest show that ever was, like it was supposed to.</div>, <div class=\"text show-more__control\">Readers who come to this review later in the series must note that, at the time of this writing, I have only seen the inaugural episode. <br/><br/>It's probably safe to say, when dealing with a series of novels as beloved as The Song of Ice and Fire, the most scrutinized aspect of the T.V. adaptation will be how well it holds to the source material. I am here to confirm, as a fierce devotee to the books, that we have nothing to fear.<br/><br/>While certain scenes play out differently in execution, the plot remains perfectly intact (so far). The characters have been transplanted well from page to screen, and the actors (most notably Peter Dinklage) nailed their personalities quite well. However; it is only fair to point out some of the acting seemed a little wooden at times.<br/><br/>Special effects were well done, though nothing mind-blowing, but the scenery and props perfectly captured the feel of the novels (in my mind at least). It also must be noted that there was just the right amount of nudity, violence and vulgarity to let the audience know they were watching a tale woven for mature viewers without using said nudity, violence and vulgarity as a crutch.<br/><br/>All and all, I am very, very pleased with this adaptation, and I went into it expecting to be disappointed. If I were to gripe about anything, it would be that newcomers who have not read the books might not know what to think of this fantasy story for adults. Some may shrug it off as fodder for geeks, while others might take offence to what they may see as a defiling of a genre usually meant for children.<br/><br/>UPDATE<br/><br/>After watching the entire first season, I can safely say this is perhaps the BEST adaptation of book into film/TV. While many moments in the show do not match the moments in the book action for action and word for word, the plot is never sacrificed when doing this, and the alterations simply make the story a better fit for a one-hour television time slot.<br/><br/>In addition, new scenes (by which I mean scenes which never happened in the book at all) fit seamlessly into the greater plot, and help the audience with information they would only otherwise get via the narrative of the novel (EG: asides which explain character/world history).<br/><br/>Top form, HBO. Top form.</div>, <div class=\"text show-more__control\">Do not believe any of those negative reviews. I honestly cannot understand why some reviewers have given this such a low rating. I think some people love the sound of their own voice and think their opinion is worth something and will be disagreeable simply for the sake of it.<br/><br/>Having said that, this show is stunning. I have never read the books and now I want to. There is so much crap on TV that is renewed year after year (CSI, House etc.) which uses cheap gags, pointless and sometimes ridiculous plots, unbelievable and many times one dimensional characters and yet all the truly great shows get cancelled.<br/><br/>There is enough brain-dead television. But once in a while a show comes along that transports you to another world and makes you believe in the magic of television again. Game of Thrones is one such show.<br/><br/>It is complex, multi-layered, surreal, vibrant, imaginative and it draws your eye in to the surprising level of detail, from the sweeping vistas, to the narrow dungeons, from the beautiful castles and magnificent trees, to the contrasting landscapes. It is worth watching just for the scenery alone.<br/><br/>Yes the acting seems a little cold and even wooden at times, but this is perfectly in keeping with the medieval look and feel of the show. Yes it is dark and gloomy, but again in keeping with the narrative.<br/><br/>The scripting is intelligent and well delivered by competent acting, led by Sean Bean perfectly cast as Lord Edard. Although Sean Bean is better known for brooding bad guys, he strikes the perfect balance between father, husband and Lord and soldier. He is well supported by other well known actors and many new to the scene.<br/><br/>After watching and sometimes enjoying Camelot, this show makes that one look more like \"Merlin\" by comparison. And where Camelot lacks in depth and scripting, Game of Thrones strikes the perfect balance between brooding medieval angst and wonderful fantasy story telling.<br/><br/>Even if you have never watched a fantasy show before, you should not miss this.</div>, <div class=\"text show-more__control\">As an avid reader, I am often disappointed by what is represented by the silver screen. I initially get excited to see one of my favorite series on the big screen, and eventually walk away disgusted. For whatever reason, most shows and movies that are based on epic book series absolutely butcher the original content. <br/><br/>So when I saw the preview for \"Game of Thrones\" on HBO, I was immediately skeptical. Oh, I was going to watch it, but I didn't have high expectations. I did hold a little hope because HBO is known for their high quality shows. <br/><br/>I was absolutely shocked to watch the Pilot and realize that it followed the book almost to perfection. The language that is used by the actors is very similar to the way that it was written in the book, and events were not skipped. It stayed very true to the story without adding to it or removing from it. <br/><br/>The acting is superb and I actually felt like I was looking into Winterfell for the first time. I feel like I've actually got faces to add to the characters that I've been reading about for a long time. <br/><br/>If you have not read the books, you may feel as though the blatant sexuality is an addition from HBO to add some spice to the series. This is not the case at all. The books contained all of the sexuality that is shown in the Pilot. I am very proud of HBO for producing an amazingly accurate product. I will be watching every week for sure. <br/><br/>If you enjoyed what you saw in the Pilot, know that there are many other plot twists and action filled evenings to come. \"Game of Thrones\" has a ton of potential to be one of the greatest series that has ever been produced. I would highly recommend it to fans of the series and newcomers alike.<br/><br/>UPDATE:<br/><br/>I have now watched 3 Episodes and I wanted to come back and report some more. Even after 3 Episodes, the series is staying true to the written story. Overall the acting is still very good. I hate to watch a show that makes it look like the actors are reading a script. I don't get this impression with this HBO adaptation. <br/><br/>Each episode of this series leaves me itching for the next weekend. I really hate watching shows in real time because I enjoy absorbing several hours of a show at one time. But, a good show will keep you looking forward to it the whole week. <br/><br/>A special note to viewers that have not read the books... Keep watching! This series has numerous twists and turns and full of epic battles and action. It may seem like it's taking a little while to develop, but the reward is well worth the wait. <br/><br/>Even after 3 episodes, I would still highly recommend this to anyone.</div>, <div class=\"text show-more__control\">Best adventurous, full of action and thrilling series ever made</div>, <div class=\"text show-more__control\">This show started slow, but it grew on you. Throughout the series you get invested in the story, and have some explosive (literally) moments that are thrilling! These big moments were unexpected so it was a treat every time they occurred. As the show headed towards season 7, you can tell the directing got a tad lazy, but it was still fun to watch. Then season 8 happened. Cinematography? Great. Story? Meh. There are some moments that have you confused. For example: Dany forgot about Euron's fleet? Grey worm teleports to where Dany is? The castle falls on Jamie and Cersei, which kills them, yet Tyrion can walk to their bodies? The lighting of the long night? Ultimately, Game of Thrones is still a fantastic show. It is a shame that the final season only had six episodes, and was rushed.</div>, <div class=\"text show-more__control\">An epic series, most of the actors mastered their characters despite the bad season, that it is still the best TV show in history</div>, <div class=\"text show-more__control\">So everyone knows that season 8 blows. It's common knowledge. For the people who haven't yet seen it, is it worth it to watch anyways?<br/><br/>Well, yes and no. I would definitely say for most you can still enjoy the majority of the show. However, if you are the type of person that values the destination MORE than the journey, I would be cautious.<br/><br/>Seasons 1-4: 10/10<br/><br/>Seasons 5-6: 9/10<br/><br/>Season 7: 7/10<br/><br/>Season 8: 3/10<br/><br/>Seasons 1-6 have some of my favorite moments in storytelling, ever. If you are a fan of intense, gritty realism, intriguing plot, and complex characters, I would definitely still recommend this show, just know what you're getting yourself into.<br/><br/>MY WARNING TO THOSE STARTING: DO NOT get too emotionally attached to the show. Enjoy it for its quality alone, and understand WHY the last 2 seasons are not as good. This way you will not be depressed for weeks on end after watching the last season like I was.<br/><br/>Let this show be the prime example of how a show goes from some of the most compelling narratives I've ever seen, to absolute trash at the end. From a purely analytical standpoint it is quite fascinating to watch.</div>]\n"
     ]
    }
   ],
   "source": [
    "reviews = []\n",
    "print(all_reviews)\n",
    "for text in all_reviews:\n",
    "    reviews.append(text.get_text())\n",
    "\n",
    "    "
   ]
  },
  {
   "cell_type": "code",
   "execution_count": 3,
   "metadata": {},
   "outputs": [
    {
     "data": {
      "text/plain": [
       "\"Let's say you're reading these reviews and haven't watched GoT yet, but now that it's finished are considering the marathon. What's the consensus? In this case, the consensus is accurate, and that is:Seasons 1-6: outstanding. Deep world-building, intelligent dialogue, epic set-pieces worthy of Hollywood, expert acting, detailed plotting, genuine surprises, great soundtrack used sparingly. GoT is worth watching for these seasons, definitely.Season 7: you suddenly notice the writing and plotting has taken a sharp dive downwards in quality. There are inexplicable ideas, inconsistent characterisation and soap-opera dramas. But at least the entertainment value is still very high, so it gets a pass.Season 8: this drop chasms down to depths you didn't think possible. The writing has got so amateurish that the still-fantastic production values are no longer enough to save it. If you ever enjoyed Lost but were amazed at how bad the final season was, you're in familiar territory here.The biggest problem with the final season was it took us out of the story and got us thinking about its many weaknesses. We lost our suspension of disbelief. Fatal for fiction. It also ruined the series-arcs to the point where a rewatch of the entire series is pointless.So can I recommend a GoT marathon for newcomers? Yes, the first 6 seasons are worth the disappointments later on. But best series of all time it is not. It could've been, but dropping the ball in the final stretch puts it behind the following superior series more worthy of your marathon:Battlestar Galactica (2003-2008)Twin Peaks (all 3 seasons, plus the movie)Breaking Bad\""
      ]
     },
     "execution_count": 3,
     "metadata": {},
     "output_type": "execute_result"
    }
   ],
   "source": [
    "reviews[1]"
   ]
  },
  {
   "cell_type": "code",
   "execution_count": 4,
   "metadata": {},
   "outputs": [
    {
     "name": "stderr",
     "output_type": "stream",
     "text": [
      "[nltk_data] Downloading package vader_lexicon to\n",
      "[nltk_data]     C:\\Users\\M433IA\\AppData\\Roaming\\nltk_data...\n",
      "[nltk_data]   Package vader_lexicon is already up-to-date!\n"
     ]
    },
    {
     "data": {
      "text/plain": [
       "True"
      ]
     },
     "execution_count": 4,
     "metadata": {},
     "output_type": "execute_result"
    }
   ],
   "source": [
    "from nltk.sentiment.vader import SentimentIntensityAnalyzer as SIA\n",
    "import nltk\n",
    "nltk.download('vader_lexicon')"
   ]
  },
  {
   "cell_type": "code",
   "execution_count": 5,
   "metadata": {},
   "outputs": [
    {
     "name": "stdout",
     "output_type": "stream",
     "text": [
      "[{'neg': 0.13, 'neu': 0.684, 'pos': 0.186, 'compound': 0.7404, 'review': 'It was a master piece. It was written to the perfection. It was mesmerizing. It was gripping. It was so shocking that if someone is binge watching this show he/she will need a time-off in between to get their head around things and accept some messed up, yet mind blowing development.But yet, I cant hate it enough after final season. Its like you came to know that you were in love with the wrong one all along. It was like looking at a completely different person. It was like seeing your own dreams and expectations get destroyed. It was not a let down, it was a BETRAYAL!'}, {'neg': 0.122, 'neu': 0.667, 'pos': 0.211, 'compound': 0.9862, 'review': \"Let's say you're reading these reviews and haven't watched GoT yet, but now that it's finished are considering the marathon. What's the consensus? In this case, the consensus is accurate, and that is:Seasons 1-6: outstanding. Deep world-building, intelligent dialogue, epic set-pieces worthy of Hollywood, expert acting, detailed plotting, genuine surprises, great soundtrack used sparingly. GoT is worth watching for these seasons, definitely.Season 7: you suddenly notice the writing and plotting has taken a sharp dive downwards in quality. There are inexplicable ideas, inconsistent characterisation and soap-opera dramas. But at least the entertainment value is still very high, so it gets a pass.Season 8: this drop chasms down to depths you didn't think possible. The writing has got so amateurish that the still-fantastic production values are no longer enough to save it. If you ever enjoyed Lost but were amazed at how bad the final season was, you're in familiar territory here.The biggest problem with the final season was it took us out of the story and got us thinking about its many weaknesses. We lost our suspension of disbelief. Fatal for fiction. It also ruined the series-arcs to the point where a rewatch of the entire series is pointless.So can I recommend a GoT marathon for newcomers? Yes, the first 6 seasons are worth the disappointments later on. But best series of all time it is not. It could've been, but dropping the ball in the final stretch puts it behind the following superior series more worthy of your marathon:Battlestar Galactica (2003-2008)Twin Peaks (all 3 seasons, plus the movie)Breaking Bad\"}, {'neg': 0.093, 'neu': 0.805, 'pos': 0.103, 'compound': 0.4129, 'review': 'Till season 7 very likely the best TV show ever made in terms of suspense, character development, plot, effects, acting.... 10/10 with no doubt! But S6E10 is probably the point where you should stop and imagine your own ending. It is guaranteed better and has more character development. Otherwise you may end up rating it down by more than just one and are overcome by disappointment...'}]\n"
     ]
    }
   ],
   "source": [
    "\n",
    "sia = SIA()\n",
    "results = []\n",
    "for line in reviews:\n",
    "    pol_score = sia.polarity_scores(line)\n",
    "    pol_score['review'] = line\n",
    "    results.append(pol_score)\n",
    "\n",
    "print(results[:3])\n"
   ]
  },
  {
   "cell_type": "code",
   "execution_count": 6,
   "metadata": {},
   "outputs": [
    {
     "data": {
      "text/html": [
       "<div>\n",
       "<style scoped>\n",
       "    .dataframe tbody tr th:only-of-type {\n",
       "        vertical-align: middle;\n",
       "    }\n",
       "\n",
       "    .dataframe tbody tr th {\n",
       "        vertical-align: top;\n",
       "    }\n",
       "\n",
       "    .dataframe thead th {\n",
       "        text-align: right;\n",
       "    }\n",
       "</style>\n",
       "<table border=\"1\" class=\"dataframe\">\n",
       "  <thead>\n",
       "    <tr style=\"text-align: right;\">\n",
       "      <th></th>\n",
       "      <th>neg</th>\n",
       "      <th>neu</th>\n",
       "      <th>pos</th>\n",
       "      <th>compound</th>\n",
       "      <th>review</th>\n",
       "    </tr>\n",
       "  </thead>\n",
       "  <tbody>\n",
       "    <tr>\n",
       "      <th>0</th>\n",
       "      <td>0.130</td>\n",
       "      <td>0.684</td>\n",
       "      <td>0.186</td>\n",
       "      <td>0.7404</td>\n",
       "      <td>It was a master piece. It was written to the p...</td>\n",
       "    </tr>\n",
       "    <tr>\n",
       "      <th>1</th>\n",
       "      <td>0.122</td>\n",
       "      <td>0.667</td>\n",
       "      <td>0.211</td>\n",
       "      <td>0.9862</td>\n",
       "      <td>Let's say you're reading these reviews and hav...</td>\n",
       "    </tr>\n",
       "    <tr>\n",
       "      <th>2</th>\n",
       "      <td>0.093</td>\n",
       "      <td>0.805</td>\n",
       "      <td>0.103</td>\n",
       "      <td>0.4129</td>\n",
       "      <td>Till season 7 very likely the best TV show eve...</td>\n",
       "    </tr>\n",
       "    <tr>\n",
       "      <th>3</th>\n",
       "      <td>0.047</td>\n",
       "      <td>0.828</td>\n",
       "      <td>0.126</td>\n",
       "      <td>0.9405</td>\n",
       "      <td>So imagine you go into an ice cream shop and y...</td>\n",
       "    </tr>\n",
       "    <tr>\n",
       "      <th>4</th>\n",
       "      <td>0.139</td>\n",
       "      <td>0.747</td>\n",
       "      <td>0.113</td>\n",
       "      <td>-0.8489</td>\n",
       "      <td>I'm feeling so heartbroken to see everyone cri...</td>\n",
       "    </tr>\n",
       "  </tbody>\n",
       "</table>\n",
       "</div>"
      ],
      "text/plain": [
       "     neg    neu    pos  compound  \\\n",
       "0  0.130  0.684  0.186    0.7404   \n",
       "1  0.122  0.667  0.211    0.9862   \n",
       "2  0.093  0.805  0.103    0.4129   \n",
       "3  0.047  0.828  0.126    0.9405   \n",
       "4  0.139  0.747  0.113   -0.8489   \n",
       "\n",
       "                                              review  \n",
       "0  It was a master piece. It was written to the p...  \n",
       "1  Let's say you're reading these reviews and hav...  \n",
       "2  Till season 7 very likely the best TV show eve...  \n",
       "3  So imagine you go into an ice cream shop and y...  \n",
       "4  I'm feeling so heartbroken to see everyone cri...  "
      ]
     },
     "execution_count": 6,
     "metadata": {},
     "output_type": "execute_result"
    }
   ],
   "source": [
    "import pandas as pd\n",
    "df = pd.DataFrame.from_records(results)\n",
    "df.head()\n"
   ]
  },
  {
   "cell_type": "code",
   "execution_count": 7,
   "metadata": {},
   "outputs": [],
   "source": [
    "df['label'] = 0\n",
    "df.loc[df['compound'] > 0.2, 'label'] = 1\n",
    "df.loc[df['compound'] < -0.2, 'label'] = -1\n"
   ]
  },
  {
   "cell_type": "code",
   "execution_count": 8,
   "metadata": {},
   "outputs": [
    {
     "data": {
      "text/html": [
       "<div>\n",
       "<style scoped>\n",
       "    .dataframe tbody tr th:only-of-type {\n",
       "        vertical-align: middle;\n",
       "    }\n",
       "\n",
       "    .dataframe tbody tr th {\n",
       "        vertical-align: top;\n",
       "    }\n",
       "\n",
       "    .dataframe thead th {\n",
       "        text-align: right;\n",
       "    }\n",
       "</style>\n",
       "<table border=\"1\" class=\"dataframe\">\n",
       "  <thead>\n",
       "    <tr style=\"text-align: right;\">\n",
       "      <th></th>\n",
       "      <th>neg</th>\n",
       "      <th>neu</th>\n",
       "      <th>pos</th>\n",
       "      <th>compound</th>\n",
       "      <th>review</th>\n",
       "      <th>label</th>\n",
       "    </tr>\n",
       "  </thead>\n",
       "  <tbody>\n",
       "    <tr>\n",
       "      <th>4</th>\n",
       "      <td>0.139</td>\n",
       "      <td>0.747</td>\n",
       "      <td>0.113</td>\n",
       "      <td>-0.8489</td>\n",
       "      <td>I'm feeling so heartbroken to see everyone cri...</td>\n",
       "      <td>-1</td>\n",
       "    </tr>\n",
       "    <tr>\n",
       "      <th>5</th>\n",
       "      <td>0.243</td>\n",
       "      <td>0.645</td>\n",
       "      <td>0.112</td>\n",
       "      <td>-0.6187</td>\n",
       "      <td>Started off as the greatest series of all time...</td>\n",
       "      <td>-1</td>\n",
       "    </tr>\n",
       "    <tr>\n",
       "      <th>7</th>\n",
       "      <td>0.152</td>\n",
       "      <td>0.749</td>\n",
       "      <td>0.099</td>\n",
       "      <td>-0.9872</td>\n",
       "      <td>I would give this an easy 10/10.. if season 8 ...</td>\n",
       "      <td>-1</td>\n",
       "    </tr>\n",
       "    <tr>\n",
       "      <th>8</th>\n",
       "      <td>0.216</td>\n",
       "      <td>0.650</td>\n",
       "      <td>0.134</td>\n",
       "      <td>-0.9218</td>\n",
       "      <td>For a series with such a complexity, many-laye...</td>\n",
       "      <td>-1</td>\n",
       "    </tr>\n",
       "    <tr>\n",
       "      <th>10</th>\n",
       "      <td>0.110</td>\n",
       "      <td>0.802</td>\n",
       "      <td>0.088</td>\n",
       "      <td>-0.8985</td>\n",
       "      <td>The first 5 Seasons of Game Of Thrones are exc...</td>\n",
       "      <td>-1</td>\n",
       "    </tr>\n",
       "  </tbody>\n",
       "</table>\n",
       "</div>"
      ],
      "text/plain": [
       "      neg    neu    pos  compound  \\\n",
       "4   0.139  0.747  0.113   -0.8489   \n",
       "5   0.243  0.645  0.112   -0.6187   \n",
       "7   0.152  0.749  0.099   -0.9872   \n",
       "8   0.216  0.650  0.134   -0.9218   \n",
       "10  0.110  0.802  0.088   -0.8985   \n",
       "\n",
       "                                               review  label  \n",
       "4   I'm feeling so heartbroken to see everyone cri...     -1  \n",
       "5   Started off as the greatest series of all time...     -1  \n",
       "7   I would give this an easy 10/10.. if season 8 ...     -1  \n",
       "8   For a series with such a complexity, many-laye...     -1  \n",
       "10  The first 5 Seasons of Game Of Thrones are exc...     -1  "
      ]
     },
     "execution_count": 8,
     "metadata": {},
     "output_type": "execute_result"
    }
   ],
   "source": [
    "df[df['label']==-1]"
   ]
  },
  {
   "cell_type": "code",
   "execution_count": 9,
   "metadata": {},
   "outputs": [
    {
     "data": {
      "text/html": [
       "<div>\n",
       "<style scoped>\n",
       "    .dataframe tbody tr th:only-of-type {\n",
       "        vertical-align: middle;\n",
       "    }\n",
       "\n",
       "    .dataframe tbody tr th {\n",
       "        vertical-align: top;\n",
       "    }\n",
       "\n",
       "    .dataframe thead th {\n",
       "        text-align: right;\n",
       "    }\n",
       "</style>\n",
       "<table border=\"1\" class=\"dataframe\">\n",
       "  <thead>\n",
       "    <tr style=\"text-align: right;\">\n",
       "      <th></th>\n",
       "      <th>neg</th>\n",
       "      <th>neu</th>\n",
       "      <th>pos</th>\n",
       "      <th>compound</th>\n",
       "      <th>review</th>\n",
       "      <th>label</th>\n",
       "    </tr>\n",
       "  </thead>\n",
       "  <tbody>\n",
       "    <tr>\n",
       "      <th>0</th>\n",
       "      <td>0.130</td>\n",
       "      <td>0.684</td>\n",
       "      <td>0.186</td>\n",
       "      <td>0.7404</td>\n",
       "      <td>It was a master piece. It was written to the p...</td>\n",
       "      <td>1</td>\n",
       "    </tr>\n",
       "    <tr>\n",
       "      <th>1</th>\n",
       "      <td>0.122</td>\n",
       "      <td>0.667</td>\n",
       "      <td>0.211</td>\n",
       "      <td>0.9862</td>\n",
       "      <td>Let's say you're reading these reviews and hav...</td>\n",
       "      <td>1</td>\n",
       "    </tr>\n",
       "    <tr>\n",
       "      <th>2</th>\n",
       "      <td>0.093</td>\n",
       "      <td>0.805</td>\n",
       "      <td>0.103</td>\n",
       "      <td>0.4129</td>\n",
       "      <td>Till season 7 very likely the best TV show eve...</td>\n",
       "      <td>1</td>\n",
       "    </tr>\n",
       "    <tr>\n",
       "      <th>3</th>\n",
       "      <td>0.047</td>\n",
       "      <td>0.828</td>\n",
       "      <td>0.126</td>\n",
       "      <td>0.9405</td>\n",
       "      <td>So imagine you go into an ice cream shop and y...</td>\n",
       "      <td>1</td>\n",
       "    </tr>\n",
       "    <tr>\n",
       "      <th>9</th>\n",
       "      <td>0.078</td>\n",
       "      <td>0.720</td>\n",
       "      <td>0.202</td>\n",
       "      <td>0.6815</td>\n",
       "      <td>This is the first series i would recommend to ...</td>\n",
       "      <td>1</td>\n",
       "    </tr>\n",
       "    <tr>\n",
       "      <th>11</th>\n",
       "      <td>0.107</td>\n",
       "      <td>0.726</td>\n",
       "      <td>0.167</td>\n",
       "      <td>0.7579</td>\n",
       "      <td>As GoT started, the first four seasons were in...</td>\n",
       "      <td>1</td>\n",
       "    </tr>\n",
       "    <tr>\n",
       "      <th>12</th>\n",
       "      <td>0.062</td>\n",
       "      <td>0.795</td>\n",
       "      <td>0.143</td>\n",
       "      <td>0.9627</td>\n",
       "      <td>The ending of this series is a disservice to t...</td>\n",
       "      <td>1</td>\n",
       "    </tr>\n",
       "    <tr>\n",
       "      <th>13</th>\n",
       "      <td>0.081</td>\n",
       "      <td>0.759</td>\n",
       "      <td>0.160</td>\n",
       "      <td>0.8209</td>\n",
       "      <td>GOT is an amazing show! But..... the last seas...</td>\n",
       "      <td>1</td>\n",
       "    </tr>\n",
       "    <tr>\n",
       "      <th>14</th>\n",
       "      <td>0.107</td>\n",
       "      <td>0.745</td>\n",
       "      <td>0.147</td>\n",
       "      <td>0.3848</td>\n",
       "      <td>At first I did not want to watch the series.\\n...</td>\n",
       "      <td>1</td>\n",
       "    </tr>\n",
       "    <tr>\n",
       "      <th>15</th>\n",
       "      <td>0.126</td>\n",
       "      <td>0.524</td>\n",
       "      <td>0.351</td>\n",
       "      <td>0.6476</td>\n",
       "      <td>A series like never seen before which rocked l...</td>\n",
       "      <td>1</td>\n",
       "    </tr>\n",
       "    <tr>\n",
       "      <th>16</th>\n",
       "      <td>0.000</td>\n",
       "      <td>0.849</td>\n",
       "      <td>0.151</td>\n",
       "      <td>0.5994</td>\n",
       "      <td>I loved this series so much. Then came season ...</td>\n",
       "      <td>1</td>\n",
       "    </tr>\n",
       "    <tr>\n",
       "      <th>17</th>\n",
       "      <td>0.082</td>\n",
       "      <td>0.683</td>\n",
       "      <td>0.236</td>\n",
       "      <td>0.9862</td>\n",
       "      <td>First off, I used to have a 10/10 for the show...</td>\n",
       "      <td>1</td>\n",
       "    </tr>\n",
       "    <tr>\n",
       "      <th>18</th>\n",
       "      <td>0.053</td>\n",
       "      <td>0.794</td>\n",
       "      <td>0.154</td>\n",
       "      <td>0.9907</td>\n",
       "      <td>Readers who come to this review later in the s...</td>\n",
       "      <td>1</td>\n",
       "    </tr>\n",
       "    <tr>\n",
       "      <th>19</th>\n",
       "      <td>0.056</td>\n",
       "      <td>0.721</td>\n",
       "      <td>0.223</td>\n",
       "      <td>0.9963</td>\n",
       "      <td>Do not believe any of those negative reviews. ...</td>\n",
       "      <td>1</td>\n",
       "    </tr>\n",
       "    <tr>\n",
       "      <th>20</th>\n",
       "      <td>0.044</td>\n",
       "      <td>0.777</td>\n",
       "      <td>0.179</td>\n",
       "      <td>0.9973</td>\n",
       "      <td>As an avid reader, I am often disappointed by ...</td>\n",
       "      <td>1</td>\n",
       "    </tr>\n",
       "    <tr>\n",
       "      <th>21</th>\n",
       "      <td>0.000</td>\n",
       "      <td>0.419</td>\n",
       "      <td>0.581</td>\n",
       "      <td>0.8658</td>\n",
       "      <td>Best adventurous, full of action and thrilling...</td>\n",
       "      <td>1</td>\n",
       "    </tr>\n",
       "    <tr>\n",
       "      <th>22</th>\n",
       "      <td>0.099</td>\n",
       "      <td>0.748</td>\n",
       "      <td>0.153</td>\n",
       "      <td>0.9021</td>\n",
       "      <td>This show started slow, but it grew on you. Th...</td>\n",
       "      <td>1</td>\n",
       "    </tr>\n",
       "    <tr>\n",
       "      <th>23</th>\n",
       "      <td>0.000</td>\n",
       "      <td>0.757</td>\n",
       "      <td>0.243</td>\n",
       "      <td>0.7935</td>\n",
       "      <td>An epic series, most of the actors mastered th...</td>\n",
       "      <td>1</td>\n",
       "    </tr>\n",
       "    <tr>\n",
       "      <th>24</th>\n",
       "      <td>0.045</td>\n",
       "      <td>0.774</td>\n",
       "      <td>0.181</td>\n",
       "      <td>0.9791</td>\n",
       "      <td>So everyone knows that season 8 blows. It's co...</td>\n",
       "      <td>1</td>\n",
       "    </tr>\n",
       "  </tbody>\n",
       "</table>\n",
       "</div>"
      ],
      "text/plain": [
       "      neg    neu    pos  compound  \\\n",
       "0   0.130  0.684  0.186    0.7404   \n",
       "1   0.122  0.667  0.211    0.9862   \n",
       "2   0.093  0.805  0.103    0.4129   \n",
       "3   0.047  0.828  0.126    0.9405   \n",
       "9   0.078  0.720  0.202    0.6815   \n",
       "11  0.107  0.726  0.167    0.7579   \n",
       "12  0.062  0.795  0.143    0.9627   \n",
       "13  0.081  0.759  0.160    0.8209   \n",
       "14  0.107  0.745  0.147    0.3848   \n",
       "15  0.126  0.524  0.351    0.6476   \n",
       "16  0.000  0.849  0.151    0.5994   \n",
       "17  0.082  0.683  0.236    0.9862   \n",
       "18  0.053  0.794  0.154    0.9907   \n",
       "19  0.056  0.721  0.223    0.9963   \n",
       "20  0.044  0.777  0.179    0.9973   \n",
       "21  0.000  0.419  0.581    0.8658   \n",
       "22  0.099  0.748  0.153    0.9021   \n",
       "23  0.000  0.757  0.243    0.7935   \n",
       "24  0.045  0.774  0.181    0.9791   \n",
       "\n",
       "                                               review  label  \n",
       "0   It was a master piece. It was written to the p...      1  \n",
       "1   Let's say you're reading these reviews and hav...      1  \n",
       "2   Till season 7 very likely the best TV show eve...      1  \n",
       "3   So imagine you go into an ice cream shop and y...      1  \n",
       "9   This is the first series i would recommend to ...      1  \n",
       "11  As GoT started, the first four seasons were in...      1  \n",
       "12  The ending of this series is a disservice to t...      1  \n",
       "13  GOT is an amazing show! But..... the last seas...      1  \n",
       "14  At first I did not want to watch the series.\\n...      1  \n",
       "15  A series like never seen before which rocked l...      1  \n",
       "16  I loved this series so much. Then came season ...      1  \n",
       "17  First off, I used to have a 10/10 for the show...      1  \n",
       "18  Readers who come to this review later in the s...      1  \n",
       "19  Do not believe any of those negative reviews. ...      1  \n",
       "20  As an avid reader, I am often disappointed by ...      1  \n",
       "21  Best adventurous, full of action and thrilling...      1  \n",
       "22  This show started slow, but it grew on you. Th...      1  \n",
       "23  An epic series, most of the actors mastered th...      1  \n",
       "24  So everyone knows that season 8 blows. It's co...      1  "
      ]
     },
     "execution_count": 9,
     "metadata": {},
     "output_type": "execute_result"
    }
   ],
   "source": [
    "df[df['label']==1]"
   ]
  },
  {
   "cell_type": "code",
   "execution_count": 10,
   "metadata": {},
   "outputs": [
    {
     "data": {
      "image/png": "[encoded data removed]",
      "text/plain": [
       "<Figure size 576x576 with 1 Axes>"
      ]
     },
     "metadata": {
      "needs_background": "light"
     },
     "output_type": "display_data"
    }
   ],
   "source": [
    "import seaborn as sns\n",
    "import matplotlib.pyplot as plt\n",
    "fig, ax = plt.subplots(figsize=(8, 8))\n",
    "\n",
    "counts = df.label.value_counts(normalize=True) * 100\n",
    "\n",
    "sns.barplot(x=counts.index, y=counts, ax=ax)\n",
    "\n",
    "ax.set_xticklabels(['Negative', 'Neutral', 'Positive'])\n",
    "ax.set_ylabel(\"Percentage\")\n",
    "\n",
    "plt.show()"
   ]
  },
  {
   "cell_type": "code",
   "execution_count": 11,
   "metadata": {},
   "outputs": [],
   "source": [
    "import spacy\n",
    "from spacy.lang.en.stop_words import STOP_WORDS\n",
    "from spacy import displacy\n",
    "nlp = spacy.load('en_core_web_md')\n",
    "\n"
   ]
  },
  {
   "cell_type": "code",
   "execution_count": 12,
   "metadata": {},
   "outputs": [],
   "source": [
    "def process_text(reviews):\n",
    "    tokens = []\n",
    "    i = 0\n",
    "    for line in reviews:\n",
    "        toks = nlp(line)\n",
    "        toks.user_data[\"title\"] = \"Sentence no.: \"+str(i)\n",
    "        displacy.render(toks, style=\"ent\")\n",
    "        lemmas = [token.lemma_ for token in toks] #remove digits and special characters\n",
    "        stopwords = spacy.lang.en.stop_words.STOP_WORDS\n",
    "        a_lemmas = [lemma for lemma in lemmas if lemma.isalpha() and lemma not in stopwords] #remove stopwords\n",
    "        # Print string after text cleaning\n",
    "        tokens.append(' '.join(a_lemmas)) \n",
    "        i = i+1\n",
    "    return tokens"
   ]
  },
  {
   "cell_type": "code",
   "execution_count": 13,
   "metadata": {},
   "outputs": [
    {
     "name": "stderr",
     "output_type": "stream",
     "text": [
      "C:\\Users\\M433IA\\anaconda3\\lib\\site-packages\\spacy\\displacy\\__init__.py:189: UserWarning: [W006] No entities to visualize found in Doc object. If this is surprising to you, make sure the Doc was processed using a model that supports named entity recognition, and check the `doc.ents` property manually if necessary.\n",
      "  warnings.warn(Warnings.W006)\n"
     ]
    },
    {
     "data": {
      "text/html": [
       "<span class=\"tex2jax_ignore\"><h2 style=\"margin: 0\">Sentence no.: 0</h2>\n",
       "\n",
       "<div class=\"entities\" style=\"line-height: 2.5; direction: ltr\">It was a master piece. It was written to the perfection. It was mesmerizing. It was gripping. It was so shocking that if someone is binge watching this show he/she will need a time-off in between to get their head around things and accept some messed up, yet mind blowing development.But yet, I cant hate it enough after final season. Its like you came to know that you were in love with the wrong one all along. It was like looking at a completely different person. It was like seeing your own dreams and expectations get destroyed. It was not a let down, it was a BETRAYAL!</div></span>"
      ],
      "text/plain": [
       "<IPython.core.display.HTML object>"
      ]
     },
     "metadata": {},
     "output_type": "display_data"
    },
    {
     "data": {
      "text/html": [
       "<span class=\"tex2jax_ignore\"><h2 style=\"margin: 0\">Sentence no.: 1</h2>\n",
       "\n",
       "<div class=\"entities\" style=\"line-height: 2.5; direction: ltr\">Let's say you're reading these reviews and haven't watched GoT yet, but now that it's finished are considering the marathon. What's the consensus? In this case, the consensus is accurate, and that is:\n",
       "<mark class=\"entity\" style=\"background: #bfe1d9; padding: 0.45em 0.6em; margin: 0 0.25em; line-height: 1; border-radius: 0.35em;\">\n",
       "    Seasons 1-6\n",
       "    <span style=\"font-size: 0.8em; font-weight: bold; line-height: 1; border-radius: 0.35em; text-transform: uppercase; vertical-align: middle; margin-left: 0.5rem\">DATE</span>\n",
       "</mark>\n",
       ": outstanding. Deep world-building, intelligent dialogue, epic set-pieces worthy of \n",
       "<mark class=\"entity\" style=\"background: #feca74; padding: 0.45em 0.6em; margin: 0 0.25em; line-height: 1; border-radius: 0.35em;\">\n",
       "    Hollywood\n",
       "    <span style=\"font-size: 0.8em; font-weight: bold; line-height: 1; border-radius: 0.35em; text-transform: uppercase; vertical-align: middle; margin-left: 0.5rem\">GPE</span>\n",
       "</mark>\n",
       ", expert acting, detailed plotting, genuine surprises, great soundtrack used sparingly. GoT is worth watching for \n",
       "<mark class=\"entity\" style=\"background: #bfe1d9; padding: 0.45em 0.6em; margin: 0 0.25em; line-height: 1; border-radius: 0.35em;\">\n",
       "    these seasons\n",
       "    <span style=\"font-size: 0.8em; font-weight: bold; line-height: 1; border-radius: 0.35em; text-transform: uppercase; vertical-align: middle; margin-left: 0.5rem\">DATE</span>\n",
       "</mark>\n",
       ", definitely.\n",
       "<mark class=\"entity\" style=\"background: #bfe1d9; padding: 0.45em 0.6em; margin: 0 0.25em; line-height: 1; border-radius: 0.35em;\">\n",
       "    Season 7\n",
       "    <span style=\"font-size: 0.8em; font-weight: bold; line-height: 1; border-radius: 0.35em; text-transform: uppercase; vertical-align: middle; margin-left: 0.5rem\">DATE</span>\n",
       "</mark>\n",
       ": you suddenly notice the writing and plotting has taken a sharp dive downwards in quality. There are inexplicable ideas, inconsistent characterisation and soap-opera dramas. But at least the entertainment value is still very high, so it gets a pass.Season \n",
       "<mark class=\"entity\" style=\"background: #e4e7d2; padding: 0.45em 0.6em; margin: 0 0.25em; line-height: 1; border-radius: 0.35em;\">\n",
       "    8\n",
       "    <span style=\"font-size: 0.8em; font-weight: bold; line-height: 1; border-radius: 0.35em; text-transform: uppercase; vertical-align: middle; margin-left: 0.5rem\">CARDINAL</span>\n",
       "</mark>\n",
       ": this drop chasms down to depths you didn't think possible. The writing has got so amateurish that the still-fantastic production values are no longer enough to save it. If you ever enjoyed \n",
       "<mark class=\"entity\" style=\"background: #aa9cfc; padding: 0.45em 0.6em; margin: 0 0.25em; line-height: 1; border-radius: 0.35em;\">\n",
       "    Lost\n",
       "    <span style=\"font-size: 0.8em; font-weight: bold; line-height: 1; border-radius: 0.35em; text-transform: uppercase; vertical-align: middle; margin-left: 0.5rem\">PERSON</span>\n",
       "</mark>\n",
       " but were amazed at how bad the final season was, you're in familiar territory here.The biggest problem with the final season was it took us out of the story and got us thinking about its many weaknesses. We lost our suspension of disbelief. Fatal for fiction. It also ruined the series-arcs to the point where a rewatch of the entire series is pointless.So can I recommend a GoT marathon for newcomers? Yes, \n",
       "<mark class=\"entity\" style=\"background: #bfe1d9; padding: 0.45em 0.6em; margin: 0 0.25em; line-height: 1; border-radius: 0.35em;\">\n",
       "    the first 6 seasons\n",
       "    <span style=\"font-size: 0.8em; font-weight: bold; line-height: 1; border-radius: 0.35em; text-transform: uppercase; vertical-align: middle; margin-left: 0.5rem\">DATE</span>\n",
       "</mark>\n",
       " are worth the disappointments later on. But best series of all time it is not. It could've been, but dropping the ball in the final stretch puts it behind the following superior series more worthy of your marathon:\n",
       "<mark class=\"entity\" style=\"background: #7aecec; padding: 0.45em 0.6em; margin: 0 0.25em; line-height: 1; border-radius: 0.35em;\">\n",
       "    Battlestar Galactica\n",
       "    <span style=\"font-size: 0.8em; font-weight: bold; line-height: 1; border-radius: 0.35em; text-transform: uppercase; vertical-align: middle; margin-left: 0.5rem\">ORG</span>\n",
       "</mark>\n",
       " (\n",
       "<mark class=\"entity\" style=\"background: #bfe1d9; padding: 0.45em 0.6em; margin: 0 0.25em; line-height: 1; border-radius: 0.35em;\">\n",
       "    2003-2008)Twin\n",
       "    <span style=\"font-size: 0.8em; font-weight: bold; line-height: 1; border-radius: 0.35em; text-transform: uppercase; vertical-align: middle; margin-left: 0.5rem\">DATE</span>\n",
       "</mark>\n",
       " Peaks (\n",
       "<mark class=\"entity\" style=\"background: #bfe1d9; padding: 0.45em 0.6em; margin: 0 0.25em; line-height: 1; border-radius: 0.35em;\">\n",
       "    all 3 seasons\n",
       "    <span style=\"font-size: 0.8em; font-weight: bold; line-height: 1; border-radius: 0.35em; text-transform: uppercase; vertical-align: middle; margin-left: 0.5rem\">DATE</span>\n",
       "</mark>\n",
       ", plus the movie)Breaking Bad</div></span>"
      ],
      "text/plain": [
       "<IPython.core.display.HTML object>"
      ]
     },
     "metadata": {},
     "output_type": "display_data"
    },
    {
     "data": {
      "text/html": [
       "<span class=\"tex2jax_ignore\"><h2 style=\"margin: 0\">Sentence no.: 2</h2>\n",
       "\n",
       "<div class=\"entities\" style=\"line-height: 2.5; direction: ltr\">Till \n",
       "<mark class=\"entity\" style=\"background: #bfe1d9; padding: 0.45em 0.6em; margin: 0 0.25em; line-height: 1; border-radius: 0.35em;\">\n",
       "    season 7\n",
       "    <span style=\"font-size: 0.8em; font-weight: bold; line-height: 1; border-radius: 0.35em; text-transform: uppercase; vertical-align: middle; margin-left: 0.5rem\">DATE</span>\n",
       "</mark>\n",
       " very likely the best TV show ever made in terms of suspense, character development, plot, effects, acting.... \n",
       "<mark class=\"entity\" style=\"background: #e4e7d2; padding: 0.45em 0.6em; margin: 0 0.25em; line-height: 1; border-radius: 0.35em;\">\n",
       "    10/10\n",
       "    <span style=\"font-size: 0.8em; font-weight: bold; line-height: 1; border-radius: 0.35em; text-transform: uppercase; vertical-align: middle; margin-left: 0.5rem\">CARDINAL</span>\n",
       "</mark>\n",
       " with no doubt! But S6E10 is probably the point where you should stop and imagine your own ending. It is guaranteed better and has more character development. Otherwise you may end up rating it down by more than just \n",
       "<mark class=\"entity\" style=\"background: #e4e7d2; padding: 0.45em 0.6em; margin: 0 0.25em; line-height: 1; border-radius: 0.35em;\">\n",
       "    one\n",
       "    <span style=\"font-size: 0.8em; font-weight: bold; line-height: 1; border-radius: 0.35em; text-transform: uppercase; vertical-align: middle; margin-left: 0.5rem\">CARDINAL</span>\n",
       "</mark>\n",
       " and are overcome by disappointment...</div></span>"
      ],
      "text/plain": [
       "<IPython.core.display.HTML object>"
      ]
     },
     "metadata": {},
     "output_type": "display_data"
    },
    {
     "data": {
      "text/html": [
       "<span class=\"tex2jax_ignore\"><h2 style=\"margin: 0\">Sentence no.: 3</h2>\n",
       "\n",
       "<div class=\"entities\" style=\"line-height: 2.5; direction: ltr\">So imagine you go into an ice cream shop and you order a sundae. They've got all kinds of nice stuff going on, beautiful delicious soft serve vanilla bean ice cream, some hot fudge, freshly cracked up peanuts, woah what is that?? A brownie? Some delicious house made whipped cream... Man this sundae is gonna be spectacular. Wow what more could you ask for? Cherry on top? Bring it on!!And then all of a sudden they put an anchovy on top, and then another, and then a couple more, and then squirt some Dijon mustard on for good measure.You don't even want the sundae anymore, in fact, you can't even look back on how nice that sundae used to be without thinking about all the stupid s*** they did at the very end just when it was going so well.That's essentially \n",
       "<mark class=\"entity\" style=\"background: #7aecec; padding: 0.45em 0.6em; margin: 0 0.25em; line-height: 1; border-radius: 0.35em;\">\n",
       "    Game of Thrones\n",
       "    <span style=\"font-size: 0.8em; font-weight: bold; line-height: 1; border-radius: 0.35em; text-transform: uppercase; vertical-align: middle; margin-left: 0.5rem\">ORG</span>\n",
       "</mark>\n",
       ". I tried to rewatch it, but as I got through \n",
       "<mark class=\"entity\" style=\"background: #bfe1d9; padding: 0.45em 0.6em; margin: 0 0.25em; line-height: 1; border-radius: 0.35em;\">\n",
       "    the first season\n",
       "    <span style=\"font-size: 0.8em; font-weight: bold; line-height: 1; border-radius: 0.35em; text-transform: uppercase; vertical-align: middle; margin-left: 0.5rem\">DATE</span>\n",
       "</mark>\n",
       " I began looking at where all the pieces land at the end it's literally impossible to go back to. There are just so many ruined character arcs, so much pointlessness, and every time I come back here I drop it \n",
       "<mark class=\"entity\" style=\"background: #e4e7d2; padding: 0.45em 0.6em; margin: 0 0.25em; line-height: 1; border-radius: 0.35em;\">\n",
       "    one\n",
       "    <span style=\"font-size: 0.8em; font-weight: bold; line-height: 1; border-radius: 0.35em; text-transform: uppercase; vertical-align: middle; margin-left: 0.5rem\">CARDINAL</span>\n",
       "</mark>\n",
       " more star it seems like. Game of Thrones is a beautiful anchovy sundae.</div></span>"
      ],
      "text/plain": [
       "<IPython.core.display.HTML object>"
      ]
     },
     "metadata": {},
     "output_type": "display_data"
    },
    {
     "data": {
      "text/html": [
       "<span class=\"tex2jax_ignore\"><h2 style=\"margin: 0\">Sentence no.: 4</h2>\n",
       "\n",
       "<div class=\"entities\" style=\"line-height: 2.5; direction: ltr\">This is the \n",
       "<mark class=\"entity\" style=\"background: #e4e7d2; padding: 0.45em 0.6em; margin: 0 0.25em; line-height: 1; border-radius: 0.35em;\">\n",
       "    first\n",
       "    <span style=\"font-size: 0.8em; font-weight: bold; line-height: 1; border-radius: 0.35em; text-transform: uppercase; vertical-align: middle; margin-left: 0.5rem\">ORDINAL</span>\n",
       "</mark>\n",
       " series i would recommend to anybody , it is an amazing piece of work , the most stunning TV series you will ever watch.</br>Why i gave it \n",
       "<mark class=\"entity\" style=\"background: #e4e7d2; padding: 0.45em 0.6em; margin: 0 0.25em; line-height: 1; border-radius: 0.35em;\">\n",
       "    9/10\n",
       "    <span style=\"font-size: 0.8em; font-weight: bold; line-height: 1; border-radius: 0.35em; text-transform: uppercase; vertical-align: middle; margin-left: 0.5rem\">CARDINAL</span>\n",
       "</mark>\n",
       " because of \n",
       "<mark class=\"entity\" style=\"background: #bfe1d9; padding: 0.45em 0.6em; margin: 0 0.25em; line-height: 1; border-radius: 0.35em;\">\n",
       "    the last season\n",
       "    <span style=\"font-size: 0.8em; font-weight: bold; line-height: 1; border-radius: 0.35em; text-transform: uppercase; vertical-align: middle; margin-left: 0.5rem\">DATE</span>\n",
       "</mark>\n",
       ", it's still good but very disappointing compared to \n",
       "<mark class=\"entity\" style=\"background: #bfe1d9; padding: 0.45em 0.6em; margin: 0 0.25em; line-height: 1; border-radius: 0.35em;\">\n",
       "    all the seasons\n",
       "    <span style=\"font-size: 0.8em; font-weight: bold; line-height: 1; border-radius: 0.35em; text-transform: uppercase; vertical-align: middle; margin-left: 0.5rem\">DATE</span>\n",
       "</mark>\n",
       ". YOU will enjoy every episode</div></span>"
      ],
      "text/plain": [
       "<IPython.core.display.HTML object>"
      ]
     },
     "metadata": {},
     "output_type": "display_data"
    },
    {
     "data": {
      "text/html": [
       "<span class=\"tex2jax_ignore\"><h2 style=\"margin: 0\">Sentence no.: 5</h2>\n",
       "\n",
       "<div class=\"entities\" style=\"line-height: 2.5; direction: ltr\">As GoT started, \n",
       "<mark class=\"entity\" style=\"background: #bfe1d9; padding: 0.45em 0.6em; margin: 0 0.25em; line-height: 1; border-radius: 0.35em;\">\n",
       "    the first four seasons\n",
       "    <span style=\"font-size: 0.8em; font-weight: bold; line-height: 1; border-radius: 0.35em; text-transform: uppercase; vertical-align: middle; margin-left: 0.5rem\">DATE</span>\n",
       "</mark>\n",
       " were insanely great. The story, the characters, the mature plot points. Everything was just perfect. It was \n",
       "<mark class=\"entity\" style=\"background: #e4e7d2; padding: 0.45em 0.6em; margin: 0 0.25em; line-height: 1; border-radius: 0.35em;\">\n",
       "    11/10\n",
       "    <span style=\"font-size: 0.8em; font-weight: bold; line-height: 1; border-radius: 0.35em; text-transform: uppercase; vertical-align: middle; margin-left: 0.5rem\">CARDINAL</span>\n",
       "</mark>\n",
       " for me then.</br>But as \n",
       "<mark class=\"entity\" style=\"background: #bfe1d9; padding: 0.45em 0.6em; margin: 0 0.25em; line-height: 1; border-radius: 0.35em;\">\n",
       "    the seasons\n",
       "    <span style=\"font-size: 0.8em; font-weight: bold; line-height: 1; border-radius: 0.35em; text-transform: uppercase; vertical-align: middle; margin-left: 0.5rem\">DATE</span>\n",
       "</mark>\n",
       " passed and episodes increased, the show became dumber and dumber and dumber. The story became childish, and the premise deteriorated. And now in \n",
       "<mark class=\"entity\" style=\"background: #bfe1d9; padding: 0.45em 0.6em; margin: 0 0.25em; line-height: 1; border-radius: 0.35em;\">\n",
       "    season 8\n",
       "    <span style=\"font-size: 0.8em; font-weight: bold; line-height: 1; border-radius: 0.35em; text-transform: uppercase; vertical-align: middle; margin-left: 0.5rem\">DATE</span>\n",
       "</mark>\n",
       ", it feels like a bunch of kindergarten kids are given the task of writing the plot for this show.</div></span>"
      ],
      "text/plain": [
       "<IPython.core.display.HTML object>"
      ]
     },
     "metadata": {},
     "output_type": "display_data"
    },
    {
     "data": {
      "text/html": [
       "<span class=\"tex2jax_ignore\"><h2 style=\"margin: 0\">Sentence no.: 6</h2>\n",
       "\n",
       "<div class=\"entities\" style=\"line-height: 2.5; direction: ltr\">The ending of this series is a disservice to \n",
       "<mark class=\"entity\" style=\"background: #bfe1d9; padding: 0.45em 0.6em; margin: 0 0.25em; line-height: 1; border-radius: 0.35em;\">\n",
       "    the public!The first seasons\n",
       "    <span style=\"font-size: 0.8em; font-weight: bold; line-height: 1; border-radius: 0.35em; text-transform: uppercase; vertical-align: middle; margin-left: 0.5rem\">DATE</span>\n",
       "</mark>\n",
       " are great as they are based on the books source material and, apparently, the writers are good enough at adapting other people ideas. After \n",
       "<mark class=\"entity\" style=\"background: #bfe1d9; padding: 0.45em 0.6em; margin: 0 0.25em; line-height: 1; border-radius: 0.35em;\">\n",
       "    season four\n",
       "    <span style=\"font-size: 0.8em; font-weight: bold; line-height: 1; border-radius: 0.35em; text-transform: uppercase; vertical-align: middle; margin-left: 0.5rem\">DATE</span>\n",
       "</mark>\n",
       " there's a decline, not so manifest at \n",
       "<mark class=\"entity\" style=\"background: #e4e7d2; padding: 0.45em 0.6em; margin: 0 0.25em; line-height: 1; border-radius: 0.35em;\">\n",
       "    first\n",
       "    <span style=\"font-size: 0.8em; font-weight: bold; line-height: 1; border-radius: 0.35em; text-transform: uppercase; vertical-align: middle; margin-left: 0.5rem\">ORDINAL</span>\n",
       "</mark>\n",
       " since the goodness of the source material still lingers around. It's more of a slow deterioration, a spiral into shallow writing that peaks in \n",
       "<mark class=\"entity\" style=\"background: #bfe1d9; padding: 0.45em 0.6em; margin: 0 0.25em; line-height: 1; border-radius: 0.35em;\">\n",
       "    a last season\n",
       "    <span style=\"font-size: 0.8em; font-weight: bold; line-height: 1; border-radius: 0.35em; text-transform: uppercase; vertical-align: middle; margin-left: 0.5rem\">DATE</span>\n",
       "</mark>\n",
       " devoid of content and value.</br>Where at \n",
       "<mark class=\"entity\" style=\"background: #e4e7d2; padding: 0.45em 0.6em; margin: 0 0.25em; line-height: 1; border-radius: 0.35em;\">\n",
       "    first\n",
       "    <span style=\"font-size: 0.8em; font-weight: bold; line-height: 1; border-radius: 0.35em; text-transform: uppercase; vertical-align: middle; margin-left: 0.5rem\">ORDINAL</span>\n",
       "</mark>\n",
       " grand scale developments, societal issues and world-spanning intrigues dominated the narration with characters being the pawns of the true overarching story, later in the seasons characters and stereotypical interactions take the stage and the interesting, long developing issues that made the story captivating get resolved in the most unrewarding ways possible. It's incoherent, detached, uninspired writing. It's everything that is bad in mainstream media.All of this because the writers decided they had enough with the show and grew bored with it. So they wanted to wrap it up as soon as possible in order to go on and ruin the Star Wars franchise (more than it already is). Thanks for your disservice!It needs to be mentioned that the overall production, sound design, acting, cinematography, all of these are quite extraordinary and elevate the show quite a bit, even when the writing declines. The quality is amazing. It probably is still worth watching for its entertainment value. It just doesn't pay off. The ending season ruins quite literally everything.</div></span>"
      ],
      "text/plain": [
       "<IPython.core.display.HTML object>"
      ]
     },
     "metadata": {},
     "output_type": "display_data"
    },
    {
     "data": {
      "text/html": [
       "<span class=\"tex2jax_ignore\"><h2 style=\"margin: 0\">Sentence no.: 7</h2>\n",
       "\n",
       "<div class=\"entities\" style=\"line-height: 2.5; direction: ltr\">GOT is an amazing show! But..... \n",
       "<mark class=\"entity\" style=\"background: #bfe1d9; padding: 0.45em 0.6em; margin: 0 0.25em; line-height: 1; border-radius: 0.35em;\">\n",
       "    the last season\n",
       "    <span style=\"font-size: 0.8em; font-weight: bold; line-height: 1; border-radius: 0.35em; text-transform: uppercase; vertical-align: middle; margin-left: 0.5rem\">DATE</span>\n",
       "</mark>\n",
       " was rushed especially regarding the white walkers. They built up so much tension and then just ended it like that.... pretty bad. Also the ending of the whole show wasn't very good either. However, this tv show is so high above everything else nowadays especially regarding production quality, story, standing out from the crowd, complexity and character development and not to mention the actors! Top notch! God tier! I just wish that they had some more time to figure out that \n",
       "<mark class=\"entity\" style=\"background: #bfe1d9; padding: 0.45em 0.6em; margin: 0 0.25em; line-height: 1; border-radius: 0.35em;\">\n",
       "    last season\n",
       "    <span style=\"font-size: 0.8em; font-weight: bold; line-height: 1; border-radius: 0.35em; text-transform: uppercase; vertical-align: middle; margin-left: 0.5rem\">DATE</span>\n",
       "</mark>\n",
       "..</div></span>"
      ],
      "text/plain": [
       "<IPython.core.display.HTML object>"
      ]
     },
     "metadata": {},
     "output_type": "display_data"
    },
    {
     "data": {
      "text/html": [
       "<span class=\"tex2jax_ignore\"><h2 style=\"margin: 0\">Sentence no.: 8</h2>\n",
       "\n",
       "<div class=\"entities\" style=\"line-height: 2.5; direction: ltr\">At first I did not want to watch the series.\n",
       "But once I started watching it, I couldn't stop.\n",
       "It became more and more exciting from season 1-8.Great actors.I was disappointed with the end of the 8 season!</div></span>"
      ],
      "text/plain": [
       "<IPython.core.display.HTML object>"
      ]
     },
     "metadata": {},
     "output_type": "display_data"
    },
    {
     "data": {
      "text/html": [
       "<span class=\"tex2jax_ignore\"><h2 style=\"margin: 0\">Sentence no.: 9</h2>\n",
       "\n",
       "<div class=\"entities\" style=\"line-height: 2.5; direction: ltr\">A series like never seen before which rocked \n",
       "<mark class=\"entity\" style=\"background: #bfe1d9; padding: 0.45em 0.6em; margin: 0 0.25em; line-height: 1; border-radius: 0.35em;\">\n",
       "    last season\n",
       "    <span style=\"font-size: 0.8em; font-weight: bold; line-height: 1; border-radius: 0.35em; text-transform: uppercase; vertical-align: middle; margin-left: 0.5rem\">DATE</span>\n",
       "</mark>\n",
       " on a flop! congratulations anyway</div></span>"
      ],
      "text/plain": [
       "<IPython.core.display.HTML object>"
      ]
     },
     "metadata": {},
     "output_type": "display_data"
    },
    {
     "data": {
      "text/html": [
       "<span class=\"tex2jax_ignore\"><h2 style=\"margin: 0\">Sentence no.: 10</h2>\n",
       "\n",
       "<div class=\"entities\" style=\"line-height: 2.5; direction: ltr\">I loved this series so much. Then came \n",
       "<mark class=\"entity\" style=\"background: #bfe1d9; padding: 0.45em 0.6em; margin: 0 0.25em; line-height: 1; border-radius: 0.35em;\">\n",
       "    season 8 episode 3 and 4\n",
       "    <span style=\"font-size: 0.8em; font-weight: bold; line-height: 1; border-radius: 0.35em; text-transform: uppercase; vertical-align: middle; margin-left: 0.5rem\">DATE</span>\n",
       "</mark>\n",
       ". Such a disgraceful ending.\n",
       "<mark class=\"entity\" style=\"background: #bfe1d9; padding: 0.45em 0.6em; margin: 0 0.25em; line-height: 1; border-radius: 0.35em;\">\n",
       "    Seasons 1-4 10/10\n",
       "    <span style=\"font-size: 0.8em; font-weight: bold; line-height: 1; border-radius: 0.35em; text-transform: uppercase; vertical-align: middle; margin-left: 0.5rem\">DATE</span>\n",
       "</mark>\n",
       "</br>\n",
       "<mark class=\"entity\" style=\"background: #bfe1d9; padding: 0.45em 0.6em; margin: 0 0.25em; line-height: 1; border-radius: 0.35em;\">\n",
       "    Seasons 5-7 9/10\n",
       "Season 8\n",
       "    <span style=\"font-size: 0.8em; font-weight: bold; line-height: 1; border-radius: 0.35em; text-transform: uppercase; vertical-align: middle; margin-left: 0.5rem\">DATE</span>\n",
       "</mark>\n",
       " (Ep 1-4) 3/10</div></span>"
      ],
      "text/plain": [
       "<IPython.core.display.HTML object>"
      ]
     },
     "metadata": {},
     "output_type": "display_data"
    },
    {
     "data": {
      "text/html": [
       "<span class=\"tex2jax_ignore\"><h2 style=\"margin: 0\">Sentence no.: 11</h2>\n",
       "\n",
       "<div class=\"entities\" style=\"line-height: 2.5; direction: ltr\">\n",
       "<mark class=\"entity\" style=\"background: #e4e7d2; padding: 0.45em 0.6em; margin: 0 0.25em; line-height: 1; border-radius: 0.35em;\">\n",
       "    First\n",
       "    <span style=\"font-size: 0.8em; font-weight: bold; line-height: 1; border-radius: 0.35em; text-transform: uppercase; vertical-align: middle; margin-left: 0.5rem\">ORDINAL</span>\n",
       "</mark>\n",
       " off, I used to have \n",
       "<mark class=\"entity\" style=\"background: #e4e7d2; padding: 0.45em 0.6em; margin: 0 0.25em; line-height: 1; border-radius: 0.35em;\">\n",
       "    a 10/10\n",
       "    <span style=\"font-size: 0.8em; font-weight: bold; line-height: 1; border-radius: 0.35em; text-transform: uppercase; vertical-align: middle; margin-left: 0.5rem\">CARDINAL</span>\n",
       "</mark>\n",
       " for the show but after watching season 8 ep 3, I can no longer consider it a masterpiece. The writing has been atrocious, no spacing between major moments. \n",
       "<mark class=\"entity\" style=\"background: #bfe1d9; padding: 0.45em 0.6em; margin: 0 0.25em; line-height: 1; border-radius: 0.35em;\">\n",
       "    Season 8\n",
       "    <span style=\"font-size: 0.8em; font-weight: bold; line-height: 1; border-radius: 0.35em; text-transform: uppercase; vertical-align: middle; margin-left: 0.5rem\">DATE</span>\n",
       "</mark>\n",
       " is definitely going to be \n",
       "<mark class=\"entity\" style=\"background: #bfe1d9; padding: 0.45em 0.6em; margin: 0 0.25em; line-height: 1; border-radius: 0.35em;\">\n",
       "    the worst season\n",
       "    <span style=\"font-size: 0.8em; font-weight: bold; line-height: 1; border-radius: 0.35em; text-transform: uppercase; vertical-align: middle; margin-left: 0.5rem\">DATE</span>\n",
       "</mark>\n",
       " in GOT history, even if the last \n",
       "<mark class=\"entity\" style=\"background: #e4e7d2; padding: 0.45em 0.6em; margin: 0 0.25em; line-height: 1; border-radius: 0.35em;\">\n",
       "    two\n",
       "    <span style=\"font-size: 0.8em; font-weight: bold; line-height: 1; border-radius: 0.35em; text-transform: uppercase; vertical-align: middle; margin-left: 0.5rem\">CARDINAL</span>\n",
       "</mark>\n",
       " eps are Brilliant which I'm starting to feel is highly unlikely. However I'm still giving GOT as a whole \n",
       "<mark class=\"entity\" style=\"background: #e4e7d2; padding: 0.45em 0.6em; margin: 0 0.25em; line-height: 1; border-radius: 0.35em;\">\n",
       "    8/10\n",
       "    <span style=\"font-size: 0.8em; font-weight: bold; line-height: 1; border-radius: 0.35em; text-transform: uppercase; vertical-align: middle; margin-left: 0.5rem\">CARDINAL</span>\n",
       "</mark>\n",
       " because of what the show once was, but season 8 has ruined it. Their best hope now is to hire some new writers and redo season eight with \n",
       "<mark class=\"entity\" style=\"background: #e4e7d2; padding: 0.45em 0.6em; margin: 0 0.25em; line-height: 1; border-radius: 0.35em;\">\n",
       "    10\n",
       "    <span style=\"font-size: 0.8em; font-weight: bold; line-height: 1; border-radius: 0.35em; text-transform: uppercase; vertical-align: middle; margin-left: 0.5rem\">CARDINAL</span>\n",
       "</mark>\n",
       " episodes, so key moments are spaced out and not feel all jumbled together like they do currently, and give more justice to the night king so that GOT can go out with a bang and be remembered as the greatest show that ever was, like it was supposed to.</div></span>"
      ],
      "text/plain": [
       "<IPython.core.display.HTML object>"
      ]
     },
     "metadata": {},
     "output_type": "display_data"
    },
    {
     "data": {
      "text/html": [
       "<span class=\"tex2jax_ignore\"><h2 style=\"margin: 0\">Sentence no.: 12</h2>\n",
       "\n",
       "<div class=\"entities\" style=\"line-height: 2.5; direction: ltr\">Readers who come to this review later in the series must note that, at the time of this writing, I have only seen the inaugural episode. It's probably safe to say, when dealing with a series of novels as beloved as The Song of Ice and Fire, the most scrutinized aspect of the \n",
       "<mark class=\"entity\" style=\"background: #bfe1d9; padding: 0.45em 0.6em; margin: 0 0.25em; line-height: 1; border-radius: 0.35em;\">\n",
       "    T.V.\n",
       "    <span style=\"font-size: 0.8em; font-weight: bold; line-height: 1; border-radius: 0.35em; text-transform: uppercase; vertical-align: middle; margin-left: 0.5rem\">DATE</span>\n",
       "</mark>\n",
       " adaptation will be how well it holds to the source material. I am here to confirm, as a fierce devotee to the books, that we have nothing to fear.While certain scenes play out differently in execution, the plot remains perfectly intact (so far). The characters have been transplanted well from page to screen, and the actors (most notably \n",
       "<mark class=\"entity\" style=\"background: #aa9cfc; padding: 0.45em 0.6em; margin: 0 0.25em; line-height: 1; border-radius: 0.35em;\">\n",
       "    Peter Dinklage\n",
       "    <span style=\"font-size: 0.8em; font-weight: bold; line-height: 1; border-radius: 0.35em; text-transform: uppercase; vertical-align: middle; margin-left: 0.5rem\">PERSON</span>\n",
       "</mark>\n",
       ") nailed their personalities quite well. However; it is only fair to point out some of the acting seemed a little wooden at times.Special effects were well done, though nothing mind-blowing, but the scenery and props perfectly captured the feel of the novels (in my mind at least). It also must be noted that there was just the right amount of nudity, violence and vulgarity to let the audience know they were watching a tale woven for mature viewers without using said nudity, violence and vulgarity as a crutch.All and all, I am very, very pleased with this adaptation, and I went into it expecting to be disappointed. If I were to gripe about anything, it would be that newcomers who have not read the books might not know what to think of this fantasy story for adults. Some may shrug it off as fodder for geeks, while others might take offence to what they may see as a defiling of a genre usually meant for children.\n",
       "<mark class=\"entity\" style=\"background: #7aecec; padding: 0.45em 0.6em; margin: 0 0.25em; line-height: 1; border-radius: 0.35em;\">\n",
       "    UPDATEAfter\n",
       "    <span style=\"font-size: 0.8em; font-weight: bold; line-height: 1; border-radius: 0.35em; text-transform: uppercase; vertical-align: middle; margin-left: 0.5rem\">ORG</span>\n",
       "</mark>\n",
       " watching \n",
       "<mark class=\"entity\" style=\"background: #bfe1d9; padding: 0.45em 0.6em; margin: 0 0.25em; line-height: 1; border-radius: 0.35em;\">\n",
       "    the entire first season\n",
       "    <span style=\"font-size: 0.8em; font-weight: bold; line-height: 1; border-radius: 0.35em; text-transform: uppercase; vertical-align: middle; margin-left: 0.5rem\">DATE</span>\n",
       "</mark>\n",
       ", I can safely say this is perhaps the BEST adaptation of book into film/TV. While many moments in the show do not match the moments in the book action for action and word for word, the plot is never sacrificed when doing this, and the alterations simply make the story a better fit for a \n",
       "<mark class=\"entity\" style=\"background: #bfe1d9; padding: 0.45em 0.6em; margin: 0 0.25em; line-height: 1; border-radius: 0.35em;\">\n",
       "    one-hour\n",
       "    <span style=\"font-size: 0.8em; font-weight: bold; line-height: 1; border-radius: 0.35em; text-transform: uppercase; vertical-align: middle; margin-left: 0.5rem\">TIME</span>\n",
       "</mark>\n",
       " television time slot.In addition, new scenes (by which I mean scenes which never happened in the book at all) fit seamlessly into the greater plot, and help the audience with information they would only otherwise get via the narrative of the novel (EG: asides which explain character/world history).Top form, \n",
       "<mark class=\"entity\" style=\"background: #7aecec; padding: 0.45em 0.6em; margin: 0 0.25em; line-height: 1; border-radius: 0.35em;\">\n",
       "    HBO\n",
       "    <span style=\"font-size: 0.8em; font-weight: bold; line-height: 1; border-radius: 0.35em; text-transform: uppercase; vertical-align: middle; margin-left: 0.5rem\">ORG</span>\n",
       "</mark>\n",
       ". Top form.</div></span>"
      ],
      "text/plain": [
       "<IPython.core.display.HTML object>"
      ]
     },
     "metadata": {},
     "output_type": "display_data"
    },
    {
     "data": {
      "text/html": [
       "<span class=\"tex2jax_ignore\"><h2 style=\"margin: 0\">Sentence no.: 13</h2>\n",
       "\n",
       "<div class=\"entities\" style=\"line-height: 2.5; direction: ltr\">Do not believe any of those negative reviews. I honestly cannot understand why some reviewers have given this such a low rating. I think some people love the sound of their own voice and think their opinion is worth something and will be disagreeable simply for the sake of it.Having said that, this show is stunning. I have never read the books and now I want to. There is so much crap on TV that is renewed \n",
       "<mark class=\"entity\" style=\"background: #bfe1d9; padding: 0.45em 0.6em; margin: 0 0.25em; line-height: 1; border-radius: 0.35em;\">\n",
       "    year\n",
       "    <span style=\"font-size: 0.8em; font-weight: bold; line-height: 1; border-radius: 0.35em; text-transform: uppercase; vertical-align: middle; margin-left: 0.5rem\">DATE</span>\n",
       "</mark>\n",
       " after \n",
       "<mark class=\"entity\" style=\"background: #bfe1d9; padding: 0.45em 0.6em; margin: 0 0.25em; line-height: 1; border-radius: 0.35em;\">\n",
       "    year\n",
       "    <span style=\"font-size: 0.8em; font-weight: bold; line-height: 1; border-radius: 0.35em; text-transform: uppercase; vertical-align: middle; margin-left: 0.5rem\">DATE</span>\n",
       "</mark>\n",
       " (\n",
       "<mark class=\"entity\" style=\"background: #7aecec; padding: 0.45em 0.6em; margin: 0 0.25em; line-height: 1; border-radius: 0.35em;\">\n",
       "    CSI\n",
       "    <span style=\"font-size: 0.8em; font-weight: bold; line-height: 1; border-radius: 0.35em; text-transform: uppercase; vertical-align: middle; margin-left: 0.5rem\">ORG</span>\n",
       "</mark>\n",
       ", \n",
       "<mark class=\"entity\" style=\"background: #7aecec; padding: 0.45em 0.6em; margin: 0 0.25em; line-height: 1; border-radius: 0.35em;\">\n",
       "    House\n",
       "    <span style=\"font-size: 0.8em; font-weight: bold; line-height: 1; border-radius: 0.35em; text-transform: uppercase; vertical-align: middle; margin-left: 0.5rem\">ORG</span>\n",
       "</mark>\n",
       " etc.) which uses cheap gags, pointless and sometimes ridiculous plots, unbelievable and many times \n",
       "<mark class=\"entity\" style=\"background: #e4e7d2; padding: 0.45em 0.6em; margin: 0 0.25em; line-height: 1; border-radius: 0.35em;\">\n",
       "    one\n",
       "    <span style=\"font-size: 0.8em; font-weight: bold; line-height: 1; border-radius: 0.35em; text-transform: uppercase; vertical-align: middle; margin-left: 0.5rem\">CARDINAL</span>\n",
       "</mark>\n",
       " dimensional characters and yet all the truly great shows get cancelled.There is enough brain-dead television. But once in a while a show comes along that transports you to another world and makes you believe in the magic of television again. Game of Thrones is \n",
       "<mark class=\"entity\" style=\"background: #e4e7d2; padding: 0.45em 0.6em; margin: 0 0.25em; line-height: 1; border-radius: 0.35em;\">\n",
       "    one\n",
       "    <span style=\"font-size: 0.8em; font-weight: bold; line-height: 1; border-radius: 0.35em; text-transform: uppercase; vertical-align: middle; margin-left: 0.5rem\">CARDINAL</span>\n",
       "</mark>\n",
       " such show.It is complex, multi-layered, surreal, vibrant, imaginative and it draws your eye in to the surprising level of detail, from the sweeping vistas, to the narrow dungeons, from the beautiful castles and magnificent trees, to the contrasting landscapes. It is worth watching just for the scenery alone.Yes the acting seems a little cold and even wooden at times, but this is perfectly in keeping with the medieval look and feel of the show. Yes it is dark and gloomy, but again in keeping with the narrative.The scripting is intelligent and well delivered by competent acting, led by \n",
       "<mark class=\"entity\" style=\"background: #aa9cfc; padding: 0.45em 0.6em; margin: 0 0.25em; line-height: 1; border-radius: 0.35em;\">\n",
       "    Sean Bean\n",
       "    <span style=\"font-size: 0.8em; font-weight: bold; line-height: 1; border-radius: 0.35em; text-transform: uppercase; vertical-align: middle; margin-left: 0.5rem\">PERSON</span>\n",
       "</mark>\n",
       " perfectly cast as Lord \n",
       "<mark class=\"entity\" style=\"background: #aa9cfc; padding: 0.45em 0.6em; margin: 0 0.25em; line-height: 1; border-radius: 0.35em;\">\n",
       "    Edard\n",
       "    <span style=\"font-size: 0.8em; font-weight: bold; line-height: 1; border-radius: 0.35em; text-transform: uppercase; vertical-align: middle; margin-left: 0.5rem\">PERSON</span>\n",
       "</mark>\n",
       ". Although \n",
       "<mark class=\"entity\" style=\"background: #aa9cfc; padding: 0.45em 0.6em; margin: 0 0.25em; line-height: 1; border-radius: 0.35em;\">\n",
       "    Sean Bean\n",
       "    <span style=\"font-size: 0.8em; font-weight: bold; line-height: 1; border-radius: 0.35em; text-transform: uppercase; vertical-align: middle; margin-left: 0.5rem\">PERSON</span>\n",
       "</mark>\n",
       " is better known for brooding bad guys, he strikes the perfect balance between father, husband and Lord and soldier. He is well supported by other well known actors and many new to the scene.After watching and sometimes enjoying \n",
       "<mark class=\"entity\" style=\"background: #ddd; padding: 0.45em 0.6em; margin: 0 0.25em; line-height: 1; border-radius: 0.35em;\">\n",
       "    Camelot\n",
       "    <span style=\"font-size: 0.8em; font-weight: bold; line-height: 1; border-radius: 0.35em; text-transform: uppercase; vertical-align: middle; margin-left: 0.5rem\">FAC</span>\n",
       "</mark>\n",
       ", this show makes that one look more like &quot;Merlin&quot; by comparison. And where \n",
       "<mark class=\"entity\" style=\"background: #7aecec; padding: 0.45em 0.6em; margin: 0 0.25em; line-height: 1; border-radius: 0.35em;\">\n",
       "    Camelot\n",
       "    <span style=\"font-size: 0.8em; font-weight: bold; line-height: 1; border-radius: 0.35em; text-transform: uppercase; vertical-align: middle; margin-left: 0.5rem\">ORG</span>\n",
       "</mark>\n",
       " lacks in depth and scripting, \n",
       "<mark class=\"entity\" style=\"background: #7aecec; padding: 0.45em 0.6em; margin: 0 0.25em; line-height: 1; border-radius: 0.35em;\">\n",
       "    Game of Thrones\n",
       "    <span style=\"font-size: 0.8em; font-weight: bold; line-height: 1; border-radius: 0.35em; text-transform: uppercase; vertical-align: middle; margin-left: 0.5rem\">ORG</span>\n",
       "</mark>\n",
       " strikes the perfect balance between brooding medieval angst and wonderful fantasy story telling.Even if you have never watched a fantasy show before, you should not miss this.</div></span>"
      ],
      "text/plain": [
       "<IPython.core.display.HTML object>"
      ]
     },
     "metadata": {},
     "output_type": "display_data"
    },
    {
     "data": {
      "text/html": [
       "<span class=\"tex2jax_ignore\"><h2 style=\"margin: 0\">Sentence no.: 14</h2>\n",
       "\n",
       "<div class=\"entities\" style=\"line-height: 2.5; direction: ltr\">As an avid reader, I am often disappointed by what is represented by the silver screen. I initially get excited to see one of my favorite series on the big screen, and eventually walk away disgusted. For whatever reason, most shows and movies that are based on epic book series absolutely butcher the original content. So when I saw the preview for &quot;Game of Thrones&quot; on \n",
       "<mark class=\"entity\" style=\"background: #7aecec; padding: 0.45em 0.6em; margin: 0 0.25em; line-height: 1; border-radius: 0.35em;\">\n",
       "    HBO\n",
       "    <span style=\"font-size: 0.8em; font-weight: bold; line-height: 1; border-radius: 0.35em; text-transform: uppercase; vertical-align: middle; margin-left: 0.5rem\">ORG</span>\n",
       "</mark>\n",
       ", I was immediately skeptical. Oh, I was going to watch it, but I didn't have high expectations. I did hold a little hope because \n",
       "<mark class=\"entity\" style=\"background: #7aecec; padding: 0.45em 0.6em; margin: 0 0.25em; line-height: 1; border-radius: 0.35em;\">\n",
       "    HBO\n",
       "    <span style=\"font-size: 0.8em; font-weight: bold; line-height: 1; border-radius: 0.35em; text-transform: uppercase; vertical-align: middle; margin-left: 0.5rem\">ORG</span>\n",
       "</mark>\n",
       " is known for their high quality shows. I was absolutely shocked to watch the \n",
       "<mark class=\"entity\" style=\"background: #7aecec; padding: 0.45em 0.6em; margin: 0 0.25em; line-height: 1; border-radius: 0.35em;\">\n",
       "    Pilot\n",
       "    <span style=\"font-size: 0.8em; font-weight: bold; line-height: 1; border-radius: 0.35em; text-transform: uppercase; vertical-align: middle; margin-left: 0.5rem\">ORG</span>\n",
       "</mark>\n",
       " and realize that it followed the book almost to perfection. The language that is used by the actors is very similar to the way that it was written in the book, and events were not skipped. It stayed very true to the story without adding to it or removing from it. The acting is superb and I actually felt like I was looking into \n",
       "<mark class=\"entity\" style=\"background: #aa9cfc; padding: 0.45em 0.6em; margin: 0 0.25em; line-height: 1; border-radius: 0.35em;\">\n",
       "    Winterfell\n",
       "    <span style=\"font-size: 0.8em; font-weight: bold; line-height: 1; border-radius: 0.35em; text-transform: uppercase; vertical-align: middle; margin-left: 0.5rem\">PERSON</span>\n",
       "</mark>\n",
       " for the first time. I feel like I've actually got faces to add to the characters that I've been reading about for a long time. If you have not read the books, you may feel as though the blatant sexuality is an addition from \n",
       "<mark class=\"entity\" style=\"background: #7aecec; padding: 0.45em 0.6em; margin: 0 0.25em; line-height: 1; border-radius: 0.35em;\">\n",
       "    HBO\n",
       "    <span style=\"font-size: 0.8em; font-weight: bold; line-height: 1; border-radius: 0.35em; text-transform: uppercase; vertical-align: middle; margin-left: 0.5rem\">ORG</span>\n",
       "</mark>\n",
       " to add some spice to the series. This is not the case at all. The books contained all of the sexuality that is shown in the \n",
       "<mark class=\"entity\" style=\"background: #bfeeb7; padding: 0.45em 0.6em; margin: 0 0.25em; line-height: 1; border-radius: 0.35em;\">\n",
       "    Pilot\n",
       "    <span style=\"font-size: 0.8em; font-weight: bold; line-height: 1; border-radius: 0.35em; text-transform: uppercase; vertical-align: middle; margin-left: 0.5rem\">PRODUCT</span>\n",
       "</mark>\n",
       ". I am very proud of \n",
       "<mark class=\"entity\" style=\"background: #7aecec; padding: 0.45em 0.6em; margin: 0 0.25em; line-height: 1; border-radius: 0.35em;\">\n",
       "    HBO\n",
       "    <span style=\"font-size: 0.8em; font-weight: bold; line-height: 1; border-radius: 0.35em; text-transform: uppercase; vertical-align: middle; margin-left: 0.5rem\">ORG</span>\n",
       "</mark>\n",
       " for producing an amazingly accurate product. I will be watching \n",
       "<mark class=\"entity\" style=\"background: #bfe1d9; padding: 0.45em 0.6em; margin: 0 0.25em; line-height: 1; border-radius: 0.35em;\">\n",
       "    every week\n",
       "    <span style=\"font-size: 0.8em; font-weight: bold; line-height: 1; border-radius: 0.35em; text-transform: uppercase; vertical-align: middle; margin-left: 0.5rem\">DATE</span>\n",
       "</mark>\n",
       " for sure. If you enjoyed what you saw in the \n",
       "<mark class=\"entity\" style=\"background: #bfeeb7; padding: 0.45em 0.6em; margin: 0 0.25em; line-height: 1; border-radius: 0.35em;\">\n",
       "    Pilot\n",
       "    <span style=\"font-size: 0.8em; font-weight: bold; line-height: 1; border-radius: 0.35em; text-transform: uppercase; vertical-align: middle; margin-left: 0.5rem\">PRODUCT</span>\n",
       "</mark>\n",
       ", know that there are many other plot twists and action filled evenings to come. &quot;\n",
       "<mark class=\"entity\" style=\"background: #7aecec; padding: 0.45em 0.6em; margin: 0 0.25em; line-height: 1; border-radius: 0.35em;\">\n",
       "    Game of Thrones\n",
       "    <span style=\"font-size: 0.8em; font-weight: bold; line-height: 1; border-radius: 0.35em; text-transform: uppercase; vertical-align: middle; margin-left: 0.5rem\">ORG</span>\n",
       "</mark>\n",
       "&quot; has \n",
       "<mark class=\"entity\" style=\"background: #e4e7d2; padding: 0.45em 0.6em; margin: 0 0.25em; line-height: 1; border-radius: 0.35em;\">\n",
       "    a ton\n",
       "    <span style=\"font-size: 0.8em; font-weight: bold; line-height: 1; border-radius: 0.35em; text-transform: uppercase; vertical-align: middle; margin-left: 0.5rem\">QUANTITY</span>\n",
       "</mark>\n",
       " of potential to be one of the greatest series that has ever been produced. I would highly recommend it to fans of the series and newcomers alike.UPDATE:I have now watched \n",
       "<mark class=\"entity\" style=\"background: #e4e7d2; padding: 0.45em 0.6em; margin: 0 0.25em; line-height: 1; border-radius: 0.35em;\">\n",
       "    3\n",
       "    <span style=\"font-size: 0.8em; font-weight: bold; line-height: 1; border-radius: 0.35em; text-transform: uppercase; vertical-align: middle; margin-left: 0.5rem\">CARDINAL</span>\n",
       "</mark>\n",
       " Episodes and I wanted to come back and report some more. Even after \n",
       "<mark class=\"entity\" style=\"background: #e4e7d2; padding: 0.45em 0.6em; margin: 0 0.25em; line-height: 1; border-radius: 0.35em;\">\n",
       "    3\n",
       "    <span style=\"font-size: 0.8em; font-weight: bold; line-height: 1; border-radius: 0.35em; text-transform: uppercase; vertical-align: middle; margin-left: 0.5rem\">CARDINAL</span>\n",
       "</mark>\n",
       " Episodes, the series is staying true to the written story. Overall the acting is still very good. I hate to watch a show that makes it look like the actors are reading a script. I don't get this impression with this \n",
       "<mark class=\"entity\" style=\"background: #7aecec; padding: 0.45em 0.6em; margin: 0 0.25em; line-height: 1; border-radius: 0.35em;\">\n",
       "    HBO\n",
       "    <span style=\"font-size: 0.8em; font-weight: bold; line-height: 1; border-radius: 0.35em; text-transform: uppercase; vertical-align: middle; margin-left: 0.5rem\">ORG</span>\n",
       "</mark>\n",
       " adaptation. Each episode of this series leaves me itching for \n",
       "<mark class=\"entity\" style=\"background: #bfe1d9; padding: 0.45em 0.6em; margin: 0 0.25em; line-height: 1; border-radius: 0.35em;\">\n",
       "    the next weekend\n",
       "    <span style=\"font-size: 0.8em; font-weight: bold; line-height: 1; border-radius: 0.35em; text-transform: uppercase; vertical-align: middle; margin-left: 0.5rem\">DATE</span>\n",
       "</mark>\n",
       ". I really hate watching shows in real time because I enjoy absorbing \n",
       "<mark class=\"entity\" style=\"background: #bfe1d9; padding: 0.45em 0.6em; margin: 0 0.25em; line-height: 1; border-radius: 0.35em;\">\n",
       "    several hours\n",
       "    <span style=\"font-size: 0.8em; font-weight: bold; line-height: 1; border-radius: 0.35em; text-transform: uppercase; vertical-align: middle; margin-left: 0.5rem\">TIME</span>\n",
       "</mark>\n",
       " of a show at \n",
       "<mark class=\"entity\" style=\"background: #e4e7d2; padding: 0.45em 0.6em; margin: 0 0.25em; line-height: 1; border-radius: 0.35em;\">\n",
       "    one\n",
       "    <span style=\"font-size: 0.8em; font-weight: bold; line-height: 1; border-radius: 0.35em; text-transform: uppercase; vertical-align: middle; margin-left: 0.5rem\">CARDINAL</span>\n",
       "</mark>\n",
       " time. But, a good show will keep you looking forward to it \n",
       "<mark class=\"entity\" style=\"background: #bfe1d9; padding: 0.45em 0.6em; margin: 0 0.25em; line-height: 1; border-radius: 0.35em;\">\n",
       "    the whole week\n",
       "    <span style=\"font-size: 0.8em; font-weight: bold; line-height: 1; border-radius: 0.35em; text-transform: uppercase; vertical-align: middle; margin-left: 0.5rem\">DATE</span>\n",
       "</mark>\n",
       ". A special note to viewers that have not read the books... Keep watching! This series has numerous twists and turns and full of epic battles and action. It may seem like it's taking a little while to develop, but the reward is well worth the wait. Even after \n",
       "<mark class=\"entity\" style=\"background: #e4e7d2; padding: 0.45em 0.6em; margin: 0 0.25em; line-height: 1; border-radius: 0.35em;\">\n",
       "    3\n",
       "    <span style=\"font-size: 0.8em; font-weight: bold; line-height: 1; border-radius: 0.35em; text-transform: uppercase; vertical-align: middle; margin-left: 0.5rem\">CARDINAL</span>\n",
       "</mark>\n",
       " episodes, I would still highly recommend this to anyone.</div></span>"
      ],
      "text/plain": [
       "<IPython.core.display.HTML object>"
      ]
     },
     "metadata": {},
     "output_type": "display_data"
    },
    {
     "data": {
      "text/html": [
       "<span class=\"tex2jax_ignore\"><h2 style=\"margin: 0\">Sentence no.: 15</h2>\n",
       "\n",
       "<div class=\"entities\" style=\"line-height: 2.5; direction: ltr\">Best adventurous, full of action and thrilling series ever made</div></span>"
      ],
      "text/plain": [
       "<IPython.core.display.HTML object>"
      ]
     },
     "metadata": {},
     "output_type": "display_data"
    },
    {
     "data": {
      "text/html": [
       "<span class=\"tex2jax_ignore\"><h2 style=\"margin: 0\">Sentence no.: 16</h2>\n",
       "\n",
       "<div class=\"entities\" style=\"line-height: 2.5; direction: ltr\">This show started slow, but it grew on you. Throughout the series you get invested in the story, and have some explosive (literally) moments that are thrilling! These big moments were unexpected so it was a treat every time they occurred. As the show headed towards \n",
       "<mark class=\"entity\" style=\"background: #bfe1d9; padding: 0.45em 0.6em; margin: 0 0.25em; line-height: 1; border-radius: 0.35em;\">\n",
       "    season 7\n",
       "    <span style=\"font-size: 0.8em; font-weight: bold; line-height: 1; border-radius: 0.35em; text-transform: uppercase; vertical-align: middle; margin-left: 0.5rem\">DATE</span>\n",
       "</mark>\n",
       ", you can tell the directing got a tad lazy, but it was still fun to watch. Then \n",
       "<mark class=\"entity\" style=\"background: #bfe1d9; padding: 0.45em 0.6em; margin: 0 0.25em; line-height: 1; border-radius: 0.35em;\">\n",
       "    season 8\n",
       "    <span style=\"font-size: 0.8em; font-weight: bold; line-height: 1; border-radius: 0.35em; text-transform: uppercase; vertical-align: middle; margin-left: 0.5rem\">DATE</span>\n",
       "</mark>\n",
       " happened. Cinematography? Great. Story? \n",
       "<mark class=\"entity\" style=\"background: #aa9cfc; padding: 0.45em 0.6em; margin: 0 0.25em; line-height: 1; border-radius: 0.35em;\">\n",
       "    Meh\n",
       "    <span style=\"font-size: 0.8em; font-weight: bold; line-height: 1; border-radius: 0.35em; text-transform: uppercase; vertical-align: middle; margin-left: 0.5rem\">PERSON</span>\n",
       "</mark>\n",
       ". There are some moments that have you confused. For example: \n",
       "<mark class=\"entity\" style=\"background: #aa9cfc; padding: 0.45em 0.6em; margin: 0 0.25em; line-height: 1; border-radius: 0.35em;\">\n",
       "    Dany\n",
       "    <span style=\"font-size: 0.8em; font-weight: bold; line-height: 1; border-radius: 0.35em; text-transform: uppercase; vertical-align: middle; margin-left: 0.5rem\">PERSON</span>\n",
       "</mark>\n",
       " forgot about \n",
       "<mark class=\"entity\" style=\"background: #7aecec; padding: 0.45em 0.6em; margin: 0 0.25em; line-height: 1; border-radius: 0.35em;\">\n",
       "    Euron\n",
       "    <span style=\"font-size: 0.8em; font-weight: bold; line-height: 1; border-radius: 0.35em; text-transform: uppercase; vertical-align: middle; margin-left: 0.5rem\">ORG</span>\n",
       "</mark>\n",
       "'s fleet? Grey worm teleports to where \n",
       "<mark class=\"entity\" style=\"background: #aa9cfc; padding: 0.45em 0.6em; margin: 0 0.25em; line-height: 1; border-radius: 0.35em;\">\n",
       "    Dany\n",
       "    <span style=\"font-size: 0.8em; font-weight: bold; line-height: 1; border-radius: 0.35em; text-transform: uppercase; vertical-align: middle; margin-left: 0.5rem\">PERSON</span>\n",
       "</mark>\n",
       " is? The castle falls on \n",
       "<mark class=\"entity\" style=\"background: #aa9cfc; padding: 0.45em 0.6em; margin: 0 0.25em; line-height: 1; border-radius: 0.35em;\">\n",
       "    Jamie\n",
       "    <span style=\"font-size: 0.8em; font-weight: bold; line-height: 1; border-radius: 0.35em; text-transform: uppercase; vertical-align: middle; margin-left: 0.5rem\">PERSON</span>\n",
       "</mark>\n",
       " and \n",
       "<mark class=\"entity\" style=\"background: #aa9cfc; padding: 0.45em 0.6em; margin: 0 0.25em; line-height: 1; border-radius: 0.35em;\">\n",
       "    Cersei\n",
       "    <span style=\"font-size: 0.8em; font-weight: bold; line-height: 1; border-radius: 0.35em; text-transform: uppercase; vertical-align: middle; margin-left: 0.5rem\">PERSON</span>\n",
       "</mark>\n",
       ", which kills them, yet \n",
       "<mark class=\"entity\" style=\"background: #aa9cfc; padding: 0.45em 0.6em; margin: 0 0.25em; line-height: 1; border-radius: 0.35em;\">\n",
       "    Tyrion\n",
       "    <span style=\"font-size: 0.8em; font-weight: bold; line-height: 1; border-radius: 0.35em; text-transform: uppercase; vertical-align: middle; margin-left: 0.5rem\">PERSON</span>\n",
       "</mark>\n",
       " can walk to their bodies? The lighting of the long night? Ultimately, \n",
       "<mark class=\"entity\" style=\"background: #7aecec; padding: 0.45em 0.6em; margin: 0 0.25em; line-height: 1; border-radius: 0.35em;\">\n",
       "    Game of Thrones\n",
       "    <span style=\"font-size: 0.8em; font-weight: bold; line-height: 1; border-radius: 0.35em; text-transform: uppercase; vertical-align: middle; margin-left: 0.5rem\">ORG</span>\n",
       "</mark>\n",
       " is still a fantastic show. It is a shame that the final season only had \n",
       "<mark class=\"entity\" style=\"background: #e4e7d2; padding: 0.45em 0.6em; margin: 0 0.25em; line-height: 1; border-radius: 0.35em;\">\n",
       "    six\n",
       "    <span style=\"font-size: 0.8em; font-weight: bold; line-height: 1; border-radius: 0.35em; text-transform: uppercase; vertical-align: middle; margin-left: 0.5rem\">CARDINAL</span>\n",
       "</mark>\n",
       " episodes, and was rushed.</div></span>"
      ],
      "text/plain": [
       "<IPython.core.display.HTML object>"
      ]
     },
     "metadata": {},
     "output_type": "display_data"
    },
    {
     "data": {
      "text/html": [
       "<span class=\"tex2jax_ignore\"><h2 style=\"margin: 0\">Sentence no.: 17</h2>\n",
       "\n",
       "<div class=\"entities\" style=\"line-height: 2.5; direction: ltr\">An epic series, most of the actors mastered their characters despite \n",
       "<mark class=\"entity\" style=\"background: #bfe1d9; padding: 0.45em 0.6em; margin: 0 0.25em; line-height: 1; border-radius: 0.35em;\">\n",
       "    the bad season\n",
       "    <span style=\"font-size: 0.8em; font-weight: bold; line-height: 1; border-radius: 0.35em; text-transform: uppercase; vertical-align: middle; margin-left: 0.5rem\">DATE</span>\n",
       "</mark>\n",
       ", that it is still the best TV show in history</div></span>"
      ],
      "text/plain": [
       "<IPython.core.display.HTML object>"
      ]
     },
     "metadata": {},
     "output_type": "display_data"
    },
    {
     "data": {
      "text/html": [
       "<span class=\"tex2jax_ignore\"><h2 style=\"margin: 0\">Sentence no.: 18</h2>\n",
       "\n",
       "<div class=\"entities\" style=\"line-height: 2.5; direction: ltr\">So everyone knows that season \n",
       "<mark class=\"entity\" style=\"background: #e4e7d2; padding: 0.45em 0.6em; margin: 0 0.25em; line-height: 1; border-radius: 0.35em;\">\n",
       "    8\n",
       "    <span style=\"font-size: 0.8em; font-weight: bold; line-height: 1; border-radius: 0.35em; text-transform: uppercase; vertical-align: middle; margin-left: 0.5rem\">CARDINAL</span>\n",
       "</mark>\n",
       " blows. It's common knowledge. For the people who haven't yet seen it, is it worth it to watch anyways?Well, yes and no. I would definitely say for most you can still enjoy the majority of the show. However, if you are the type of person that values the destination MORE than the journey, I would be cautious.\n",
       "<mark class=\"entity\" style=\"background: #bfe1d9; padding: 0.45em 0.6em; margin: 0 0.25em; line-height: 1; border-radius: 0.35em;\">\n",
       "    Seasons 1-4\n",
       "    <span style=\"font-size: 0.8em; font-weight: bold; line-height: 1; border-radius: 0.35em; text-transform: uppercase; vertical-align: middle; margin-left: 0.5rem\">DATE</span>\n",
       "</mark>\n",
       ": \n",
       "<mark class=\"entity\" style=\"background: #e4e7d2; padding: 0.45em 0.6em; margin: 0 0.25em; line-height: 1; border-radius: 0.35em;\">\n",
       "    10/10Seasons 5\n",
       "    <span style=\"font-size: 0.8em; font-weight: bold; line-height: 1; border-radius: 0.35em; text-transform: uppercase; vertical-align: middle; margin-left: 0.5rem\">CARDINAL</span>\n",
       "</mark>\n",
       "-6: 9/10Season \n",
       "<mark class=\"entity\" style=\"background: #e4e7d2; padding: 0.45em 0.6em; margin: 0 0.25em; line-height: 1; border-radius: 0.35em;\">\n",
       "    7\n",
       "    <span style=\"font-size: 0.8em; font-weight: bold; line-height: 1; border-radius: 0.35em; text-transform: uppercase; vertical-align: middle; margin-left: 0.5rem\">CARDINAL</span>\n",
       "</mark>\n",
       ": 7/10Season \n",
       "<mark class=\"entity\" style=\"background: #e4e7d2; padding: 0.45em 0.6em; margin: 0 0.25em; line-height: 1; border-radius: 0.35em;\">\n",
       "    8\n",
       "    <span style=\"font-size: 0.8em; font-weight: bold; line-height: 1; border-radius: 0.35em; text-transform: uppercase; vertical-align: middle; margin-left: 0.5rem\">CARDINAL</span>\n",
       "</mark>\n",
       ": \n",
       "<mark class=\"entity\" style=\"background: #e4e7d2; padding: 0.45em 0.6em; margin: 0 0.25em; line-height: 1; border-radius: 0.35em;\">\n",
       "    3/10Seasons 1-6\n",
       "    <span style=\"font-size: 0.8em; font-weight: bold; line-height: 1; border-radius: 0.35em; text-transform: uppercase; vertical-align: middle; margin-left: 0.5rem\">CARDINAL</span>\n",
       "</mark>\n",
       " have some of my favorite moments in storytelling, ever. If you are a fan of intense, gritty realism, intriguing plot, and complex characters, I would definitely still recommend this show, just know what you're getting yourself into.MY WARNING TO THOSE STARTING: DO NOT get too emotionally attached to the show. Enjoy it for its quality alone, and understand WHY \n",
       "<mark class=\"entity\" style=\"background: #bfe1d9; padding: 0.45em 0.6em; margin: 0 0.25em; line-height: 1; border-radius: 0.35em;\">\n",
       "    the last 2 seasons\n",
       "    <span style=\"font-size: 0.8em; font-weight: bold; line-height: 1; border-radius: 0.35em; text-transform: uppercase; vertical-align: middle; margin-left: 0.5rem\">DATE</span>\n",
       "</mark>\n",
       " are not as good. This way you will not be depressed for \n",
       "<mark class=\"entity\" style=\"background: #bfe1d9; padding: 0.45em 0.6em; margin: 0 0.25em; line-height: 1; border-radius: 0.35em;\">\n",
       "    weeks\n",
       "    <span style=\"font-size: 0.8em; font-weight: bold; line-height: 1; border-radius: 0.35em; text-transform: uppercase; vertical-align: middle; margin-left: 0.5rem\">DATE</span>\n",
       "</mark>\n",
       " on end after watching \n",
       "<mark class=\"entity\" style=\"background: #bfe1d9; padding: 0.45em 0.6em; margin: 0 0.25em; line-height: 1; border-radius: 0.35em;\">\n",
       "    the last season\n",
       "    <span style=\"font-size: 0.8em; font-weight: bold; line-height: 1; border-radius: 0.35em; text-transform: uppercase; vertical-align: middle; margin-left: 0.5rem\">DATE</span>\n",
       "</mark>\n",
       " like I was.Let this show be the prime example of how a show goes from some of the most compelling narratives I've ever seen, to absolute trash at the end. From a purely analytical standpoint it is quite fascinating to watch.</div></span>"
      ],
      "text/plain": [
       "<IPython.core.display.HTML object>"
      ]
     },
     "metadata": {},
     "output_type": "display_data"
    }
   ],
   "source": [
    "pos_lines = list(df[df.label == 1].review)\n",
    "\n",
    "pos_tokens = process_text(pos_lines)\n",
    "\n",
    "#pos_freq = nltk.FreqDist(pos_tokens)\n",
    "\n",
    "#pos_freq.most_common(20)"
   ]
  },
  {
   "cell_type": "code",
   "execution_count": 14,
   "metadata": {},
   "outputs": [
    {
     "name": "stdout",
     "output_type": "stream",
     "text": [
      "After stopword removal:\n",
      " master piece write perfection mesmerizing grip shocking binge watch need time head thing accept mess mind blow development hate final season like come know love wrong like look completely different person like dream expectation destroy let betrayal\n"
     ]
    }
   ],
   "source": [
    "print(\"After stopword removal:\\n\",pos_tokens[0])"
   ]
  },
  {
   "cell_type": "code",
   "execution_count": null,
   "metadata": {},
   "outputs": [],
   "source": []
  }
 ],
 "metadata": {
  "kernelspec": {
   "display_name": "Python 3",
   "language": "python",
   "name": "python3"
  },
  "language_info": {
   "codemirror_mode": {
    "name": "ipython",
    "version": 3
   },
   "file_extension": ".py",
   "mimetype": "text/x-python",
   "name": "python",
   "nbconvert_exporter": "python",
   "pygments_lexer": "ipython3",
   "version": "3.8.3"
  }
 },
 "nbformat": 4,
 "nbformat_minor": 4
}
